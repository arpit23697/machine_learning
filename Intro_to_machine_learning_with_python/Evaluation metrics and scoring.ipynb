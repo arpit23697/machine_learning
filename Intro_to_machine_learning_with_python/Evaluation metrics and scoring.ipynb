{
 "cells": [
  {
   "cell_type": "code",
   "execution_count": 1,
   "metadata": {},
   "outputs": [],
   "source": [
    "import sys\n",
    "sys.path.insert (0 , \"/home/arpit/study/ML/github\")"
   ]
  },
  {
   "cell_type": "code",
   "execution_count": 2,
   "metadata": {},
   "outputs": [],
   "source": [
    "import mglearn\n",
    "import matplotlib.pyplot as plt\n",
    "import numpy as np\n",
    "import pandas as pd"
   ]
  },
  {
   "cell_type": "code",
   "execution_count": 3,
   "metadata": {},
   "outputs": [],
   "source": [
    "#so far we are using accuracy for the evaluation of the classification algorithm\n",
    "#and R2 score for the evaluation of the regression algorithm\n",
    "#We have lot of metric for the evaluation of the algorithm\n",
    "#first we will look at the evaluation metric for the binary classification"
   ]
  },
  {
   "cell_type": "code",
   "execution_count": 4,
   "metadata": {},
   "outputs": [],
   "source": [
    "#using accuaracy can be misleading for the skewed dataset\n",
    "#an incorrect positive prediction is known as the false positive\n",
    "#an incorrect negative prediction is knwon as the false negative\n",
    "#false positive is also known as type error 1\n",
    "#false negative is also known as type error 2\n",
    "#here we are using the imbalance dataset for the digit dataset\n",
    "#here 9 is the positive class and the rest is the negative class\n"
   ]
  },
  {
   "cell_type": "code",
   "execution_count": 5,
   "metadata": {},
   "outputs": [],
   "source": [
    "#importing the model \n",
    "from sklearn.datasets import load_digits\n",
    "digits = load_digits()\n",
    "\n",
    "#now we are going to create the imbalance dataset\n",
    "y = digits.target == 9"
   ]
  },
  {
   "cell_type": "code",
   "execution_count": 6,
   "metadata": {},
   "outputs": [],
   "source": [
    "#splitting the data set\n",
    "from sklearn.model_selection import train_test_split\n",
    "X_train , X_test, y_train , y_test = train_test_split(digits.data , y , random_state = 0)"
   ]
  },
  {
   "cell_type": "code",
   "execution_count": 7,
   "metadata": {},
   "outputs": [
    {
     "name": "stdout",
     "output_type": "stream",
     "text": [
      "The predicted unique values are :  [False]\n",
      "The test score :  0.8955555555555555\n"
     ]
    }
   ],
   "source": [
    "#we can use the DummyClassifier to always predict the majority class\n",
    "from sklearn.dummy import DummyClassifier\n",
    "dummy_majority = DummyClassifier(strategy = \"most_frequent\")\n",
    "dummy_majority.fit(X_train , y_train)\n",
    "\n",
    "pred_most_frequent = dummy_majority.predict(X_test)\n",
    "print(\"The predicted unique values are : \" , np.unique(pred_most_frequent) )       #only the false will appear meaning no 9\n",
    "print(\"The test score : \" , dummy_majority.score(X_test , y_test))\n",
    "#as we expected the accuracy is 90%\n",
    "#this means without any model we are having the accuracy of 90%"
   ]
  },
  {
   "cell_type": "code",
   "execution_count": 8,
   "metadata": {},
   "outputs": [
    {
     "name": "stdout",
     "output_type": "stream",
     "text": [
      "Test score :  0.9177777777777778\n"
     ]
    }
   ],
   "source": [
    "#now we are going to use the decision tree classifier to assess the performance\n",
    "from sklearn.tree import DecisionTreeClassifier\n",
    "tree = DecisionTreeClassifier(max_depth = 2)                #this is for prepruning\n",
    "tree.fit(X_train , y_train)\n",
    "pred_tree = tree.predict(X_test)\n",
    "print(\"Test score : \" , tree.score(X_test , y_test))                #got just a slightly better accuracy"
   ]
  },
  {
   "cell_type": "code",
   "execution_count": 9,
   "metadata": {},
   "outputs": [
    {
     "name": "stdout",
     "output_type": "stream",
     "text": [
      "Test score is :  0.8022222222222222\n",
      "{False: 400, True: 50}\n",
      "bincount of y_train  [1214  133]\n",
      "Bincount of y_test   [403  47]\n"
     ]
    }
   ],
   "source": [
    "dummy = DummyClassifier(random_state = 0)\n",
    "dummy.fit(X_train , y_train)\n",
    "print(\"Test score is : \" , dummy.score(X_test , y_test))\n",
    "\n",
    "pred_dummy = dummy.predict(X_test)\n",
    "#when using stratified then it randomly classifies the test set but in the same proportion as the training set\n",
    "unique , counts = np.unique(dummy.predict(X_test) , return_counts = True)\n",
    "print(dict(zip(unique , counts)))\n",
    "\n",
    "print(\"bincount of y_train \"  , np.bincount(y_train))\n",
    "print(\"Bincount of y_test  \"  , np.bincount(y_test))"
   ]
  },
  {
   "cell_type": "code",
   "execution_count": 10,
   "metadata": {},
   "outputs": [
    {
     "name": "stdout",
     "output_type": "stream",
     "text": [
      "test score is :  0.9755555555555555\n"
     ]
    }
   ],
   "source": [
    "#usinng logistic regression model\n",
    "from sklearn.linear_model import LogisticRegression\n",
    "logreg = LogisticRegression()\n",
    "logreg.fit(X_train , y_train)\n",
    "print(\"test score is : \" , logreg.score(X_test , y_test))\n",
    "#this model seems to have the greatest accuracy\n",
    "#we need some other metric for the evaluation of our models"
   ]
  },
  {
   "cell_type": "code",
   "execution_count": 11,
   "metadata": {},
   "outputs": [
    {
     "name": "stdout",
     "output_type": "stream",
     "text": [
      "[[399   4]\n",
      " [  7  40]]\n"
     ]
    }
   ],
   "source": [
    "#we can make use of the confusion metric\n",
    "#In this the rows correspond to the true classes and the columns correspond to the predicted classes\n",
    "#entries on the diagonal tells us about the correct classifications\n",
    "#other entries show how one class get mistakenly classified into the other class\n",
    "\n",
    "from sklearn.metrics import confusion_matrix\n",
    "pred_logreg = logreg.predict(X_test)\n",
    "confusion = confusion_matrix(y_test , pred_logreg)\n",
    "print(confusion)\n"
   ]
  },
  {
   "cell_type": "code",
   "execution_count": 12,
   "metadata": {},
   "outputs": [
    {
     "data": {
      "image/png": "[encoded data removed]",
      "text/plain": [
       "<Figure size 432x288 with 1 Axes>"
      ]
     },
     "metadata": {},
     "output_type": "display_data"
    }
   ],
   "source": [
    "mglearn.plots.plot_binary_confusion_matrix()\n",
    "#this is for the summary "
   ]
  },
  {
   "cell_type": "code",
   "execution_count": 13,
   "metadata": {},
   "outputs": [
    {
     "name": "stdout",
     "output_type": "stream",
     "text": [
      "most frequent classes : \n",
      "[[403   0]\n",
      " [ 47   0]]\n",
      "dummy model : \n",
      "[[357  46]\n",
      " [ 43   4]]\n",
      "Logistic regression model \n",
      "[[399   4]\n",
      " [  7  40]]\n",
      "Decison tree : \n",
      "[[390  13]\n",
      " [ 24  23]]\n"
     ]
    }
   ],
   "source": [
    "#let us use the confusion matrix to analyse the model \n",
    "#predicts most frequent always predict the same class as can be seen\n",
    "print(\"most frequent classes : \" )\n",
    "print(confusion_matrix(y_test , pred_most_frequent))\n",
    "\n",
    "#this one have very small number of true positive\n",
    "#ther are more false positive then the true positive\n",
    "print(\"dummy model : \" )\n",
    "print(confusion_matrix(y_test , pred_dummy))\n",
    "\n",
    "print(\"Logistic regression model \")\n",
    "print(confusion_matrix(y_test , pred_logreg))\n",
    "\n",
    "print(\"Decison tree : \" )\n",
    "print(confusion_matrix(y_test , pred_tree))\n",
    "\n",
    "#decision tree and the logistic regression give the reasonable result\n",
    "#while logistic regression is better than the decision tree on all accounts"
   ]
  },
  {
   "cell_type": "code",
   "execution_count": 15,
   "metadata": {},
   "outputs": [
    {
     "name": "stdout",
     "output_type": "stream",
     "text": [
      "f1 score most frequent 0.0\n",
      "F1 score dummy : 0.08247422680412371\n",
      "F1 score logistic regression :  0.8791208791208791\n",
      "f1 score for decision tree :  0.5542168674698795\n"
     ]
    },
    {
     "name": "stderr",
     "output_type": "stream",
     "text": [
      "/home/arpit/anaconda3/lib/python3.6/site-packages/sklearn/metrics/classification.py:1135: UndefinedMetricWarning: F-score is ill-defined and being set to 0.0 due to no predicted samples.\n",
      "  'precision', 'predicted', average, warn_for)\n"
     ]
    }
   ],
   "source": [
    "#accuracy = TP + TN / (TP + FP + FN + TN)\n",
    "#precision = TP / (TP + FP)                 #how many of the samples predicted as positive are actually positive\n",
    "                                            #this is used when the goal is to limit the FP\n",
    "                                            #precision is also known as positive predictive value \n",
    "#recall = TP / (TP + FN)                    #how many of the actual positive sample are predicted as positive\n",
    "                                            #This is used when we need to identify the positive samples\n",
    "                                            #other names are hit rate , sensitivity or true positive rate\n",
    "#there is a trade off between optimizing recall and optimizing precision\n",
    "#one way to summarise is to use f-score\n",
    "#F-score = 2 * precision * recall / (precision + recall)\n",
    "#now we are going to compute the f1-score for all the models\n",
    "from sklearn.metrics import f1_score\n",
    "print(\"f1 score most frequent\" , f1_score(y_test , pred_most_frequent))\n",
    "#since the denominator TP + FP in precision is 0 so it is giving the error\n",
    "print(\"F1 score dummy :\" , f1_score(y_test , pred_dummy))\n",
    "print(\"F1 score logistic regression : \" , f1_score(y_test , pred_logreg))\n",
    "print(\"f1 score for decision tree : \" , f1_score(y_test , pred_tree))\n",
    "\n",
    "#there is a strong distinction in between dummy and the tree predictions \n",
    "#f-score seems to be a good metric to evaluate the performance of the model\n"
   ]
  },
  {
   "cell_type": "code",
   "execution_count": 25,
   "metadata": {},
   "outputs": [
    {
     "name": "stdout",
     "output_type": "stream",
     "text": [
      "             precision    recall  f1-score   support\n",
      "\n",
      "   not nine       0.90      1.00      0.94       403\n",
      "       nine       0.00      0.00      0.00        47\n",
      "\n",
      "avg / total       0.80      0.90      0.85       450\n",
      "\n"
     ]
    },
    {
     "name": "stderr",
     "output_type": "stream",
     "text": [
      "/home/arpit/anaconda3/lib/python3.6/site-packages/sklearn/metrics/classification.py:1135: UndefinedMetricWarning: Precision and F-score are ill-defined and being set to 0.0 in labels with no predicted samples.\n",
      "  'precision', 'predicted', average, warn_for)\n"
     ]
    }
   ],
   "source": [
    "#we can see the better report using the classification report\n",
    "from sklearn.metrics import classification_report\n",
    "print(classification_report(y_test , pred_most_frequent , target_names = ['not nine' , 'nine']))\n",
    "#it prints the report in terms of perecision , recall and f1-score with each class as the positive class\n",
    "#then it prints the average of the two\n",
    "#last row is the weighted average of both the classes"
   ]
  },
  {
   "cell_type": "code",
   "execution_count": 26,
   "metadata": {},
   "outputs": [
    {
     "name": "stdout",
     "output_type": "stream",
     "text": [
      "             precision    recall  f1-score   support\n",
      "\n",
      "   not nine       0.98      0.99      0.99       403\n",
      "       nine       0.91      0.85      0.88        47\n",
      "\n",
      "avg / total       0.98      0.98      0.98       450\n",
      "\n"
     ]
    }
   ],
   "source": [
    "print(classification_report(y_test , pred_logreg , target_names= ['not nine' , 'nine']))"
   ]
  },
  {
   "cell_type": "code",
   "execution_count": 27,
   "metadata": {},
   "outputs": [
    {
     "name": "stdout",
     "output_type": "stream",
     "text": [
      "             precision    recall  f1-score   support\n",
      "\n",
      "   not nine       0.89      0.89      0.89       403\n",
      "       nine       0.08      0.09      0.08        47\n",
      "\n",
      "avg / total       0.81      0.80      0.80       450\n",
      "\n"
     ]
    }
   ],
   "source": [
    "print(classification_report(y_test , pred_dummy , target_names = ['not nine' , 'nine']))\n",
    "#looking at all these numbers paints a very clear picture"
   ]
  },
  {
   "cell_type": "code",
   "execution_count": null,
   "metadata": {},
   "outputs": [],
   "source": [
    "#we are going to take uncertainity into the account\n",
    "#predict_proba and the decision_function are the ones that are used for the measurement of the uncertainity\n",
    "#predict proba have the threshold set at 0.5 while the dicision function have the threshold set at 0\n"
   ]
  }
 ],
 "metadata": {
  "kernelspec": {
   "display_name": "Python 3",
   "language": "python",
   "name": "python3"
  },
  "language_info": {
   "codemirror_mode": {
    "name": "ipython",
    "version": 3
   },
   "file_extension": ".py",
   "mimetype": "text/x-python",
   "name": "python",
   "nbconvert_exporter": "python",
   "pygments_lexer": "ipython3",
   "version": "3.6.5"
  }
 },
 "nbformat": 4,
 "nbformat_minor": 2
}
