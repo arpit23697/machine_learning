{
 "cells": [
  {
   "cell_type": "code",
   "execution_count": 1,
   "metadata": {},
   "outputs": [],
   "source": [
    "import sys\n",
    "sys.path.insert (0 , '/home/arpit/study/ML/github')"
   ]
  },
  {
   "cell_type": "code",
   "execution_count": 2,
   "metadata": {},
   "outputs": [],
   "source": [
    "import mglearn\n",
    "import matplotlib.pyplot as plt\n",
    "import pandas as pd\n",
    "import numpy as np"
   ]
  },
  {
   "cell_type": "code",
   "execution_count": 3,
   "metadata": {},
   "outputs": [],
   "source": [
    "#This is going to introduce to select only the relevand features\n",
    "#This helps to know which are the features that are important\n",
    "#All the models are supervised learning , that means they need the target data as well"
   ]
  },
  {
   "cell_type": "code",
   "execution_count": 4,
   "metadata": {},
   "outputs": [
    {
     "name": "stdout",
     "output_type": "stream",
     "text": [
      "Shape of original data :  (569, 30)\n",
      "Shape of noised data :  (569, 80)\n",
      "Shape after feature selection :  (426, 40)\n"
     ]
    }
   ],
   "source": [
    "#unviriate statistics\n",
    "#In this we compute , wether there is a significant relationship between the feature and the target\n",
    "#Then the feature with the highest confidence are selected\n",
    "#This is also known as analysis of variance (ANOVA)\n",
    "#These test are univariate , so they do not capture the intercation in between the features\n",
    "#They are very fast\n",
    "#In order to select the feature we need to select KBest which selects the KBest features\n",
    "#SelectPercentile to select a fixed percentage\n",
    "#We will apply this on the cancer data set and add some noise to it and then try to find the best features\n",
    "from sklearn.datasets import load_breast_cancer\n",
    "from sklearn.feature_selection import SelectPercentile\n",
    "from sklearn.model_selection import train_test_split\n",
    "\n",
    "cancer = load_breast_cancer()\n",
    "print(\"Shape of original data : \" ,cancer.data.shape)               #there are 30 features\n",
    "#Now we are going to add the noise to it\n",
    "\n",
    "rng = np.random.RandomState(0)\n",
    "noise = rng.normal (size = (cancer.data.shape[0] , 50))\n",
    "\n",
    "#Adding tnoise to the original data set\n",
    "X_noise = np.hstack([cancer.data , noise])\n",
    "print(\"Shape of noised data : \" , X_noise.shape)    #so we added 50 more features that are just noise\n",
    "\n",
    "#splitting the data set\n",
    "X_train , X_test , y_train , y_test = train_test_split(X_noise , cancer.target , random_state = 0)\n",
    "\n",
    "#now using the feature selection \n",
    "select = SelectPercentile(percentile = 50) #This is to select only the 50 % features\n",
    "select.fit(X_train , y_train)\n",
    "\n",
    "X_train_selected = select.transform(X_train)\n",
    "X_test_selected = select.transform(X_test)\n",
    "\n",
    "#printing the shape of the data after feature selection\n",
    "print(\"Shape after feature selection : \" , X_train_selected.shape)\n",
    "#This show 50% of the features are selected"
   ]
  },
  {
   "cell_type": "code",
   "execution_count": 5,
   "metadata": {},
   "outputs": [
    {
     "name": "stdout",
     "output_type": "stream",
     "text": [
      "Selected features : \n",
      " [ True  True  True  True  True  True  True  True  True False  True False\n",
      "  True  True  True  True  True  True False  True  True  True  True  True\n",
      "  True  True  True  True  True  True False False False  True  True  True\n",
      "  True False False False False  True False False False False False False\n",
      " False False  True False  True  True False False  True False False  True\n",
      " False False False False False False  True False  True False False False\n",
      " False  True False False False False False False]\n"
     ]
    }
   ],
   "source": [
    "#We can see which feature are selected using the get_support method\n",
    "print(\"Selected features : \\n\" , select.get_support())"
   ]
  },
  {
   "cell_type": "code",
   "execution_count": 6,
   "metadata": {},
   "outputs": [
    {
     "data": {
      "text/plain": [
       "Text(0.5,0,'Sample index')"
      ]
     },
     "execution_count": 6,
     "metadata": {},
     "output_type": "execute_result"
    },
    {
     "data": {
      "image/png": "[encoded data removed]",
      "text/plain": [
       "<Figure size 1152x144 with 1 Axes>"
      ]
     },
     "metadata": {},
     "output_type": "display_data"
    }
   ],
   "source": [
    "#plotting it on the graph\n",
    "mask = select.get_support()\n",
    "mask = mask.reshape(1 , 80)    #this is to convert it into a row string\n",
    "plt.matshow(mask , cmap = 'gray')\n",
    "plt.xlabel(\"Sample index\")\n",
    "#As you can see most of the selcted fetures are the original features and the noise features are removed"
   ]
  },
  {
   "cell_type": "code",
   "execution_count": 7,
   "metadata": {},
   "outputs": [
    {
     "name": "stdout",
     "output_type": "stream",
     "text": [
      "Test accuracy without selection :  0.9440559440559441\n",
      "Test accuracy after selection :  0.9370629370629371\n"
     ]
    }
   ],
   "source": [
    "#now compare the performance of the logistic regression\n",
    "from sklearn.linear_model import LogisticRegression\n",
    "reg = LogisticRegression().fit(X_train , y_train)\n",
    "\n",
    "print(\"Test accuracy without selection : \" , reg.score(X_test , y_test))\n",
    "\n",
    "reg = LogisticRegression().fit(X_train_selected , y_train)\n",
    "print(\"Test accuracy after selection : \" , reg.score(X_test_selected , y_test))\n",
    "\n",
    "#There is a improvement in the performance but this is not very significant"
   ]
  },
  {
   "cell_type": "code",
   "execution_count": 8,
   "metadata": {},
   "outputs": [],
   "source": [
    "#model based feature selection\n",
    "#It uses a supervised learning model to learn the importance of each features\n",
    "#The model that is used for feature selection need not be the same as the model that is applied\n",
    "#The feature selection need to provide some measure of importance of how the features are selected\n",
    "#tree based model provides feature_importances_\n",
    "#regression model provides coef, features with small coef magnitude are not that important\n",
    "#in model based feature selection , the interactions are captured\n",
    "\n",
    "#implementing\n",
    "from sklearn.feature_selection import SelectFromModel\n",
    "from sklearn.ensemble import RandomForestClassifier\n",
    "\n",
    "select = SelectFromModel(\n",
    "        RandomForestClassifier(n_estimators = 100 , random_state = 42) , \n",
    "        threshold = 'median')    #to change the threshold use 1.25 * median\n",
    "\n",
    "#Here we select the thershold to be the median so only half the features are going to be selected"
   ]
  },
  {
   "cell_type": "code",
   "execution_count": 9,
   "metadata": {},
   "outputs": [
    {
     "name": "stdout",
     "output_type": "stream",
     "text": [
      "Shape of original data :  (426, 80)\n",
      "After selection data :  (426, 40)\n"
     ]
    }
   ],
   "source": [
    "select.fit(X_train , y_train)\n",
    "X_train_selected = select.transform(X_train)\n",
    "X_test_selected = select.transform(X_test)\n",
    "\n",
    "print(\"Shape of original data : \" , X_train.shape)\n",
    "print(\"After selection data : \" , X_train_selected.shape)"
   ]
  },
  {
   "cell_type": "code",
   "execution_count": 10,
   "metadata": {},
   "outputs": [
    {
     "data": {
      "text/plain": [
       "<matplotlib.image.AxesImage at 0x7fdfb004a198>"
      ]
     },
     "execution_count": 10,
     "metadata": {},
     "output_type": "execute_result"
    },
    {
     "data": {
      "image/png": "[encoded data removed]",
      "text/plain": [
       "<Figure size 1152x144 with 1 Axes>"
      ]
     },
     "metadata": {},
     "output_type": "display_data"
    }
   ],
   "source": [
    "#now have a look at the features\n",
    "mask = select.get_support()\n",
    "mask = mask.reshape(1, 80)\n",
    "plt.matshow(mask ,  cmap = 'gray')\n",
    "\n",
    "#since the model is very powerful all the starting 30 features are selected\n",
    "#since we are selecting 40 features so some noise features are also selected"
   ]
  },
  {
   "cell_type": "code",
   "execution_count": 11,
   "metadata": {},
   "outputs": [
    {
     "name": "stdout",
     "output_type": "stream",
     "text": [
      "Test score :  0.951048951048951\n"
     ]
    }
   ],
   "source": [
    "#Now seeing the performance\n",
    "reg = LogisticRegression().fit(X_train_selected , y_train)\n",
    "print(\"Test score : \" , reg.score(X_test_selected , y_test))\n",
    "#there is an improvement in the performance"
   ]
  },
  {
   "cell_type": "code",
   "execution_count": 12,
   "metadata": {},
   "outputs": [],
   "source": [
    "#iterative feature selection\n",
    "#In this we are going to use more than model for the feature selection\n",
    "#This is the strongest feature selection\n",
    "#These models are computationally expensive since the series of models are build in this case\n",
    "#The method we are going to use here is recursiveFeatureElimination or RFE\n",
    "#we need to give some model for features selection\n",
    "\n",
    "from sklearn.feature_selection import RFE\n",
    "select = RFE(\n",
    "        RandomForestClassifier(n_estimators = 100 , random_state = 42) , \n",
    "        n_features_to_select = 40)\n",
    "select.fit(X_train , y_train)\n",
    "X_train_selected = select.transform(X_train)\n",
    "X_test_selected = select.transform(X_test)"
   ]
  },
  {
   "cell_type": "code",
   "execution_count": 13,
   "metadata": {},
   "outputs": [
    {
     "data": {
      "text/plain": [
       "Text(0.5,0,'Features')"
      ]
     },
     "execution_count": 13,
     "metadata": {},
     "output_type": "execute_result"
    },
    {
     "data": {
      "image/png": "[encoded data removed]",
      "text/plain": [
       "<Figure size 1152x144 with 1 Axes>"
      ]
     },
     "metadata": {},
     "output_type": "display_data"
    }
   ],
   "source": [
    "mask = select.get_support().reshape(1 , -1)\n",
    "plt.matshow(mask , cmap = 'gray')\n",
    "plt.xlabel(\"Features\")"
   ]
  },
  {
   "cell_type": "code",
   "execution_count": 14,
   "metadata": {},
   "outputs": [
    {
     "name": "stdout",
     "output_type": "stream",
     "text": [
      "Test accuracy  :  0.9300699300699301\n"
     ]
    }
   ],
   "source": [
    "reg = LogisticRegression().fit(X_train_selected , y_train)\n",
    "print(\"Test accuracy  : \" , reg.score(X_test_selected , y_test))"
   ]
  },
  {
   "cell_type": "code",
   "execution_count": 15,
   "metadata": {},
   "outputs": [],
   "source": [
    "#note that feature selection is not likely to provide very large gains"
   ]
  },
  {
   "cell_type": "code",
   "execution_count": null,
   "metadata": {},
   "outputs": [],
   "source": []
  }
 ],
 "metadata": {
  "kernelspec": {
   "display_name": "Python 3",
   "language": "python",
   "name": "python3"
  },
  "language_info": {
   "codemirror_mode": {
    "name": "ipython",
    "version": 3
   },
   "file_extension": ".py",
   "mimetype": "text/x-python",
   "name": "python",
   "nbconvert_exporter": "python",
   "pygments_lexer": "ipython3",
   "version": "3.6.5"
  }
 },
 "nbformat": 4,
 "nbformat_minor": 2
}
