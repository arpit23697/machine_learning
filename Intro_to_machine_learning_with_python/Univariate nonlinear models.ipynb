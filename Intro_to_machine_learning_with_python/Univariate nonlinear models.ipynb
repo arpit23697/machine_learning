{
 "cells": [
  {
   "cell_type": "code",
   "execution_count": 1,
   "metadata": {},
   "outputs": [],
   "source": [
    "import sys\n",
    "sys.path.insert(0 , \"/home/arpit/study/ML/github\")"
   ]
  },
  {
   "cell_type": "code",
   "execution_count": 2,
   "metadata": {},
   "outputs": [],
   "source": [
    "import mglearn\n",
    "import matplotlib.pyplot as plt\n",
    "import pandas as pd\n",
    "import numpy as np"
   ]
  },
  {
   "cell_type": "code",
   "execution_count": 3,
   "metadata": {},
   "outputs": [],
   "source": [
    "#sometimes there is non linear relation between the features and the target\n",
    "#in that case the linear model and some times even neural are not able to fit the data well\n",
    "#In order to fit the model properly we can do some transformation so that then the linear model can fit\n",
    "#We have already seen the use of the log function\n",
    "#Some other functions can be exp, sin and cos\n",
    "#Sin and cos are going to be used when there is some periodicity in the data\n",
    "#Here we are going to see the variable that is normally distributed\n",
    "#This is the kind of data you can expect in wild\n"
   ]
  },
  {
   "cell_type": "code",
   "execution_count": 5,
   "metadata": {},
   "outputs": [],
   "source": [
    "#This is the way to create the data\n",
    "rnd = np.random.RandomState(0)\n",
    "X_org = rnd.normal(size = (1000 , 3))\n",
    "w = rnd.normal(size = 3)\n",
    "X = rnd.poisson(10 * np.exp(X_org))\n",
    "y = np.dot(X_org , w)"
   ]
  },
  {
   "cell_type": "code",
   "execution_count": 7,
   "metadata": {},
   "outputs": [
    {
     "name": "stdout",
     "output_type": "stream",
     "text": [
      "Shape of x is : \n",
      " (1000, 3)\n"
     ]
    }
   ],
   "source": [
    "print(\"Shape of x is : \\n\" , X.shape)"
   ]
  },
  {
   "cell_type": "code",
   "execution_count": 9,
   "metadata": {},
   "outputs": [
    {
     "name": "stdout",
     "output_type": "stream",
     "text": [
      "Number of feature appearances : \n",
      " [28 38 68 48 61 59 45 56 37 40 35 34 36 26 23 26 27 21 23 23 18 21 10  9\n",
      " 17  9  7 14 12  7  3  8  4  5  5  3  4  2  4  1  1  3  2  5  3  8  2  5\n",
      "  2  1  2  3  3  2  2  3  3  0  1  2  1  0  0  3  1  0  0  0  1  3  0  1\n",
      "  0  2  0  1  1  0  0  0  0  1  0  0  2  2  0  1  1  0  0  0  0  1  1  0\n",
      "  0  0  0  0  0  0  1  0  0  0  0  0  1  1  0  0  1  0  0  0  0  0  0  0\n",
      "  1  0  0  0  0  1  0  0  0  0  0  0  0  0  0  0  0  0  0  0  1]\n"
     ]
    }
   ],
   "source": [
    "#number of feature appearances\n",
    "print(\"Number of feature appearances : \\n\" , np.bincount(X[: , 0]))\n",
    "#The value 2 seems to be the most common with 68 appearances\n",
    "#And the count for higher values fall quickly"
   ]
  },
  {
   "cell_type": "code",
   "execution_count": 14,
   "metadata": {},
   "outputs": [
    {
     "data": {
      "text/plain": [
       "Text(0,0.5,'Frequncy')"
      ]
     },
     "execution_count": 14,
     "metadata": {},
     "output_type": "execute_result"
    },
    {
     "data": {
      "image/png": "[encoded data removed]",
      "text/plain": [
       "<Figure size 576x432 with 1 Axes>"
      ]
     },
     "metadata": {},
     "output_type": "display_data"
    }
   ],
   "source": [
    "#Now lets make the histogram of this\n",
    "bins = np.bincount(X[: , 0])\n",
    "plt.figure(figsize = (8 , 6))\n",
    "plt.bar(range(len(bins)) , bins)\n",
    "plt.xlabel(\"Feature X\")\n",
    "plt.ylabel(\"Frequncy\")\n",
    "#This is the histogram for the X[0]"
   ]
  },
  {
   "cell_type": "code",
   "execution_count": 16,
   "metadata": {},
   "outputs": [
    {
     "data": {
      "text/plain": [
       "Text(0,0.5,'Frequency')"
      ]
     },
     "execution_count": 16,
     "metadata": {},
     "output_type": "execute_result"
    },
    {
     "data": {
      "image/png": "[encoded data removed]",
      "text/plain": [
       "<Figure size 576x432 with 1 Axes>"
      ]
     },
     "metadata": {},
     "output_type": "display_data"
    }
   ],
   "source": [
    "#now ra are going to plot for X[1] and X[2]\n",
    "plt.figure(figsize = (8 , 6))\n",
    "bins = np.bincount(X[: , 1])\n",
    "plt.bar(range(len(bins)) , bins)\n",
    "plt.xlabel(\"Feature X[1]\")\n",
    "plt.ylabel(\"Frequency\")"
   ]
  },
  {
   "cell_type": "code",
   "execution_count": 17,
   "metadata": {},
   "outputs": [
    {
     "data": {
      "text/plain": [
       "Text(0,0.5,'Frequency')"
      ]
     },
     "execution_count": 17,
     "metadata": {},
     "output_type": "execute_result"
    },
    {
     "data": {
      "image/png": "[encoded data removed]",
      "text/plain": [
       "<Figure size 576x432 with 1 Axes>"
      ]
     },
     "metadata": {},
     "output_type": "display_data"
    }
   ],
   "source": [
    "plt.figure(figsize = (8 , 6))\n",
    "bins = np.bincount(X[: , 2])\n",
    "plt.bar(range(len(bins)) , bins )\n",
    "plt.xlabel(\"Feature X[2]\")\n",
    "plt.ylabel(\"Frequency\")"
   ]
  },
  {
   "cell_type": "code",
   "execution_count": 20,
   "metadata": {},
   "outputs": [
    {
     "name": "stdout",
     "output_type": "stream",
     "text": [
      "Training accuracy :  0.6475234463020519\n",
      "Test accuracy :  0.6513485776383097\n"
     ]
    }
   ],
   "source": [
    "#This kind of data is very common. This is the kind of gaussian data\n",
    "#But linear models cannot handle such kind of data\n",
    "from sklearn.linear_model import Ridge\n",
    "from sklearn.model_selection import train_test_split\n",
    "X_train , X_test , y_train , y_test = train_test_split(X , y)\n",
    "reg = Ridge().fit(X_train , y_train)\n",
    "\n",
    "print(\"Training accuracy : \" , reg.score(X_train , y_train))\n",
    "print(\"Test accuracy : \" , reg.score(X_test, y_test))\n",
    "\n",
    "#This shows how low the test accuracy \n",
    "#Let's try ridge model after some transformation\n",
    "#We are going to apply the logarithmic function\n",
    "#But log is not defined for 0 so we apply the transformation of X+1"
   ]
  },
  {
   "cell_type": "code",
   "execution_count": 27,
   "metadata": {},
   "outputs": [],
   "source": [
    "X_train_log = np.log(X_train+1)\n",
    "X_test_log = np.log(X_test + 1)"
   ]
  },
  {
   "cell_type": "code",
   "execution_count": 36,
   "metadata": {},
   "outputs": [
    {
     "data": {
      "text/plain": [
       "Text(0,0.5,'Frequency')"
      ]
     },
     "execution_count": 36,
     "metadata": {},
     "output_type": "execute_result"
    },
    {
     "data": {
      "image/png": "[encoded data removed]",
      "text/plain": [
       "<Figure size 576x432 with 1 Axes>"
      ]
     },
     "metadata": {},
     "output_type": "display_data"
    }
   ],
   "source": [
    "#After the transformation it is good idea to plot the graph\n",
    "#It is more asymmetrical\n",
    "plt.figure(figsize = (8, 6))\n",
    "plt.hist(X_train_log[: , 0] , bins = 25 , color = 'gray')\n",
    "plt.xlabel(\"Transform feature X[0]\")\n",
    "plt.ylabel(\"Frequency\")"
   ]
  },
  {
   "cell_type": "code",
   "execution_count": 37,
   "metadata": {},
   "outputs": [
    {
     "name": "stdout",
     "output_type": "stream",
     "text": [
      "Train accuracy :  0.8628461905281744\n",
      "Test accuracy :  0.8741998601366946\n"
     ]
    }
   ],
   "source": [
    "#now training the ridge model\n",
    "reg = Ridge().fit(X_train_log , y_train)\n",
    "print(\"Train accuracy : \" , reg.score(X_train_log , y_train))\n",
    "print(\"Test accuracy : \" , reg.score(X_test_log , y_test))\n",
    "\n",
    "#This shows a very good improvement in the performance"
   ]
  },
  {
   "cell_type": "code",
   "execution_count": null,
   "metadata": {},
   "outputs": [],
   "source": [
    "#in practice only a subset of features need to be transformed\n",
    "#Each feature need to be transformed in a different way\n",
    "#This kind of transformation is irrelevant for tree based model\n"
   ]
  }
 ],
 "metadata": {
  "kernelspec": {
   "display_name": "Python 3",
   "language": "python",
   "name": "python3"
  },
  "language_info": {
   "codemirror_mode": {
    "name": "ipython",
    "version": 3
   },
   "file_extension": ".py",
   "mimetype": "text/x-python",
   "name": "python",
   "nbconvert_exporter": "python",
   "pygments_lexer": "ipython3",
   "version": "3.6.5"
  }
 },
 "nbformat": 4,
 "nbformat_minor": 2
}
