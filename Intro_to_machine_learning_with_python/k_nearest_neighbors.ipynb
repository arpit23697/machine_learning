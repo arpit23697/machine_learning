{
 "cells": [
  {
   "cell_type": "code",
   "execution_count": 1,
   "metadata": {},
   "outputs": [],
   "source": [
    "import sys\n",
    "sys.path.insert(0 , '/home/arpit/study/ML/github')"
   ]
  },
  {
   "cell_type": "code",
   "execution_count": 2,
   "metadata": {},
   "outputs": [],
   "source": [
    "import mglearn"
   ]
  },
  {
   "cell_type": "code",
   "execution_count": 3,
   "metadata": {},
   "outputs": [],
   "source": [
    "import pandas as pd\n",
    "import matplotlib.pyplot as plt\n",
    "import numpy as np"
   ]
  },
  {
   "cell_type": "code",
   "execution_count": 4,
   "metadata": {},
   "outputs": [],
   "source": [
    "#importing the dataset\n",
    "X , y = mglearn.datasets.make_forge()"
   ]
  },
  {
   "cell_type": "code",
   "execution_count": 5,
   "metadata": {},
   "outputs": [
    {
     "name": "stdout",
     "output_type": "stream",
     "text": [
      "Shape of X : \n",
      " (26, 2)\n",
      "Shape of y : \n",
      " (26,)\n"
     ]
    }
   ],
   "source": [
    "#details of X\n",
    "print(\"Shape of X : \\n\" , X.shape)\n",
    "print(\"Shape of y : \\n\" , y.shape)"
   ]
  },
  {
   "cell_type": "code",
   "execution_count": 6,
   "metadata": {},
   "outputs": [],
   "source": [
    "#plotting the graph depicting the knn classification\n",
    "from sklearn.metrics import euclidean_distances"
   ]
  },
  {
   "cell_type": "code",
   "execution_count": 7,
   "metadata": {},
   "outputs": [],
   "source": [
    "#this function is used to plot the data set\n",
    "def plot_dataset() :\n",
    "    #this is to plot the training set\n",
    "    pos_indices = (y == 1)\n",
    "    pos_data = np.ones((0 , 2))\n",
    "    neg_data = np.ones((0 , 2))\n",
    "    for indices in range(X.shape[0]):\n",
    "        if (pos_indices[indices] == True):\n",
    "            pos_data = np.vstack ((pos_data , np.array([X[indices][0] , X[indices][1]])))\n",
    "        else:\n",
    "            neg_data = np.vstack ((neg_data , np.array([X[indices][0] , X[indices][1]])))\n",
    "\n",
    "    plt.plot(pos_data[: , 0] , pos_data[: , 1] , 'r^' , label = \"class 1\")\n",
    "    plt.plot(neg_data[: , 0] , neg_data[: , 1] , 'bo' , label = \"class 0\")\n",
    "\n",
    "    plt.xlabel(\"First feature\")\n",
    "    plt.ylabel(\"second feature\")"
   ]
  },
  {
   "cell_type": "code",
   "execution_count": 17,
   "metadata": {},
   "outputs": [
    {
     "data": {
      "image/png": "[encoded data removed]",
      "text/plain": [
       "<Figure size 432x288 with 1 Axes>"
      ]
     },
     "metadata": {},
     "output_type": "display_data"
    }
   ],
   "source": [
    "X_test = np.array([[8.2 , 3.66] , [9.9 , 3.2] , [11.2 , 0.5]])\n",
    "\n",
    "dist = euclidean_distances(X , X_test)               #pairwise distace between each pair of test set and X\n",
    "closest = np.argsort(dist , axis = 0)                #this will give you the indices of the closest neighbors\n",
    "\n",
    "#plotting the data set\n",
    "plot_dataset()\n",
    "plt.plot(X_test[: , 0] , X_test[: , 1] , 'g*' , label = 'Test points')\n",
    "plt.legend()\n",
    "\n",
    "#plotting the k nearest neighborst showing them with the arrows\n",
    "K = 3                                                   #this is the value that controls the number of negibors\n",
    "for k in range(K):\n",
    "    for indices , x in zip(range(3) , X_test):\n",
    "        plt.arrow(x[0] , x[1] , X[closest[k , indices] , 0] - x[0] , X[closest[k , indices] , 1] - x[1])\n",
    "                                       #this is the function to plot the dataset"
   ]
  },
  {
   "cell_type": "code",
   "execution_count": 9,
   "metadata": {},
   "outputs": [],
   "source": [
    "#applying the K-nearest neighbor with the help of scikit_learn\n",
    "from sklearn.model_selection import train_test_split\n",
    "X_train , X_test , y_train , y_test = train_test_split(X, y)"
   ]
  },
  {
   "cell_type": "code",
   "execution_count": 10,
   "metadata": {},
   "outputs": [
    {
     "name": "stdout",
     "output_type": "stream",
     "text": [
      "shape of X_train :  (19, 2)\n",
      "Shape of X_test :  (7, 2)\n"
     ]
    }
   ],
   "source": [
    "print(\"shape of X_train : \" , X_train.shape)\n",
    "print(\"Shape of X_test : \" , X_test.shape)"
   ]
  },
  {
   "cell_type": "code",
   "execution_count": 11,
   "metadata": {},
   "outputs": [],
   "source": [
    "from sklearn.neighbors import KNeighborsClassifier\n",
    "knn = KNeighborsClassifier(n_neighbors = 3)"
   ]
  },
  {
   "cell_type": "code",
   "execution_count": 12,
   "metadata": {},
   "outputs": [
    {
     "data": {
      "text/plain": [
       "KNeighborsClassifier(algorithm='auto', leaf_size=30, metric='minkowski',\n",
       "           metric_params=None, n_jobs=1, n_neighbors=3, p=2,\n",
       "           weights='uniform')"
      ]
     },
     "execution_count": 12,
     "metadata": {},
     "output_type": "execute_result"
    }
   ],
   "source": [
    "#fitting the training data\n",
    "knn.fit(X_train , y_train)"
   ]
  },
  {
   "cell_type": "code",
   "execution_count": 13,
   "metadata": {},
   "outputs": [
    {
     "data": {
      "text/plain": [
       "array([1, 0, 0, 1, 1, 0, 1])"
      ]
     },
     "execution_count": 13,
     "metadata": {},
     "output_type": "execute_result"
    }
   ],
   "source": [
    "#predicting the output on the test set\n",
    "knn.predict(X_test)"
   ]
  },
  {
   "cell_type": "code",
   "execution_count": 14,
   "metadata": {},
   "outputs": [
    {
     "name": "stdout",
     "output_type": "stream",
     "text": [
      "Test set accuracy :  0.8571428571428571\n"
     ]
    }
   ],
   "source": [
    "#to see how well the model generalise call the score method\n",
    "print(\"Test set accuracy : \" , knn.score(X_test , y_test))"
   ]
  },
  {
   "cell_type": "code",
   "execution_count": null,
   "metadata": {},
   "outputs": [],
   "source": []
  },
  {
   "cell_type": "code",
   "execution_count": null,
   "metadata": {},
   "outputs": [],
   "source": []
  }
 ],
 "metadata": {
  "kernelspec": {
   "display_name": "Python 3",
   "language": "python",
   "name": "python3"
  },
  "language_info": {
   "codemirror_mode": {
    "name": "ipython",
    "version": 3
   },
   "file_extension": ".py",
   "mimetype": "text/x-python",
   "name": "python",
   "nbconvert_exporter": "python",
   "pygments_lexer": "ipython3",
   "version": "3.6.5"
  }
 },
 "nbformat": 4,
 "nbformat_minor": 2
}
