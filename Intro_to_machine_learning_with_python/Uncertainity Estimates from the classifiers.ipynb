{
 "cells": [
  {
   "cell_type": "code",
   "execution_count": 1,
   "metadata": {},
   "outputs": [],
   "source": [
    "import sys\n",
    "sys.path.insert(0  , '/home/arpit/study/ML/github')"
   ]
  },
  {
   "cell_type": "code",
   "execution_count": 2,
   "metadata": {},
   "outputs": [],
   "source": [
    "import mglearn\n",
    "import matplotlib.pyplot as plt\n",
    "import numpy as np\n",
    "import pandas as pd"
   ]
  },
  {
   "cell_type": "code",
   "execution_count": 3,
   "metadata": {},
   "outputs": [],
   "source": [
    "#plotting the datap point\n",
    "def plot_data_points(X , y , marker , string):\n",
    "    class0 = np.ones((0 , 2))\n",
    "    class1 = np.ones((0 , 2))\n",
    "    for indices in range(X.shape[0]):\n",
    "        if (y[indices] == 0):\n",
    "            class0 = np.vstack((class0 , np.array(X[indices])))\n",
    "        else:\n",
    "            class1 = np.vstack((class1 , np.array(X[indices])))\n",
    "    plt.plot(class0[: , 0] , class0[: , 1] ,'b' , marker = marker ,linewidth = 0 , label = \"class 0\" + string)\n",
    "    plt.plot(class1[: , 0] , class1[: , 1] , 'r' , marker = marker , linewidth = 0 , label = \"class 1\" + string)\n",
    "    plt.xlabel('Feature 1')\n",
    "    plt.ylabel(\"feature 2\")"
   ]
  },
  {
   "cell_type": "code",
   "execution_count": 4,
   "metadata": {},
   "outputs": [],
   "source": [
    "#There are two uncertainity functions \n",
    "#decision_function\n",
    "#predict_proba\n",
    "#most of the classifiers have one of the two functions\n",
    "#some of them even have the both\n",
    "\n",
    "#loading the training data and training a GradientBoostingClassifier to fit the dataset\n",
    "from sklearn.datasets import make_blobs , make_circles\n",
    "X , y = make_circles (noise = 0.25 , factor = 0.5 , random_state = 1)\n",
    "\n",
    "#we rename the classes as red and blue for illustration purpose\n",
    "y_names = np.array([\"blue\" , \"red\"])[y]"
   ]
  },
  {
   "cell_type": "code",
   "execution_count": 5,
   "metadata": {},
   "outputs": [
    {
     "data": {
      "text/plain": [
       "Text(0.5,1,'Data points')"
      ]
     },
     "execution_count": 5,
     "metadata": {},
     "output_type": "execute_result"
    },
    {
     "data": {
      "image/png": "[encoded data removed]",
      "text/plain": [
       "<Figure size 432x288 with 1 Axes>"
      ]
     },
     "metadata": {},
     "output_type": "display_data"
    }
   ],
   "source": [
    "plot_data_points(X , y , 'o' , ' ')\n",
    "plt.legend()\n",
    "plt.title(\"Data points\")"
   ]
  },
  {
   "cell_type": "code",
   "execution_count": 6,
   "metadata": {},
   "outputs": [],
   "source": [
    "from sklearn.model_selection import train_test_split\n",
    "X_train , X_test , y_train_named , y_test_named , y_train , y_test= train_test_split(X ,y_names,y, random_state = 0)"
   ]
  },
  {
   "cell_type": "code",
   "execution_count": 7,
   "metadata": {},
   "outputs": [
    {
     "data": {
      "text/plain": [
       "GradientBoostingClassifier(criterion='friedman_mse', init=None,\n",
       "              learning_rate=0.1, loss='deviance', max_depth=3,\n",
       "              max_features=None, max_leaf_nodes=None,\n",
       "              min_impurity_decrease=0.0, min_impurity_split=None,\n",
       "              min_samples_leaf=1, min_samples_split=2,\n",
       "              min_weight_fraction_leaf=0.0, n_estimators=100,\n",
       "              presort='auto', random_state=0, subsample=1.0, verbose=0,\n",
       "              warm_start=False)"
      ]
     },
     "execution_count": 7,
     "metadata": {},
     "output_type": "execute_result"
    }
   ],
   "source": [
    "from sklearn.ensemble import GradientBoostingClassifier\n",
    "gbrt = GradientBoostingClassifier(random_state = 0)\n",
    "gbrt.fit(X_train , y_train_named)"
   ]
  },
  {
   "cell_type": "code",
   "execution_count": 8,
   "metadata": {},
   "outputs": [
    {
     "name": "stdout",
     "output_type": "stream",
     "text": [
      "Shape of X_test :  (25, 2)\n",
      "Decision function shape :  (25,)\n"
     ]
    }
   ],
   "source": [
    "print(\"Shape of X_test : \" , X_test.shape)\n",
    "print(\"Decision function shape : \" , gbrt.decision_function(X_test).shape)"
   ]
  },
  {
   "cell_type": "code",
   "execution_count": 9,
   "metadata": {},
   "outputs": [
    {
     "name": "stdout",
     "output_type": "stream",
     "text": [
      "Some decision function values : \n",
      " [ 4.13592629 -1.7016989  -3.95106099 -3.62599351  4.28986668  3.66166106]\n"
     ]
    }
   ],
   "source": [
    "#The value encodes how strongly the model believes that a data point belong to the positive class\n",
    "# positive values indicate the preference for the positive class and negative values indicate the preference for\n",
    "#the negative class\n",
    "print(\"Some decision function values : \\n\" , gbrt.decision_function(X_test)[:6]  )"
   ]
  },
  {
   "cell_type": "code",
   "execution_count": 10,
   "metadata": {},
   "outputs": [
    {
     "name": "stdout",
     "output_type": "stream",
     "text": [
      "Thresholded decision function : \n",
      " [ True False False False  True  True False  True  True  True False  True\n",
      "  True False  True False False False  True  True  True  True  True False\n",
      " False]\n",
      "Predictions : \n",
      " ['red' 'blue' 'blue' 'blue' 'red' 'red' 'blue' 'red' 'red' 'red' 'blue'\n",
      " 'red' 'red' 'blue' 'red' 'blue' 'blue' 'blue' 'red' 'red' 'red' 'red'\n",
      " 'red' 'blue' 'blue']\n"
     ]
    }
   ],
   "source": [
    "#predicting the decision function values\n",
    "print(\"Thresholded decision function : \\n\" , gbrt.decision_function(X_test) > 0)\n",
    "print(\"Predictions : \\n\" , gbrt.predict(X_test))"
   ]
  },
  {
   "cell_type": "code",
   "execution_count": 11,
   "metadata": {},
   "outputs": [
    {
     "name": "stdout",
     "output_type": "stream",
     "text": [
      "The predictions are same\n"
     ]
    }
   ],
   "source": [
    "#For binary class , negative class is the first entry of the class \n",
    "#positive class is the second entry of the class\n",
    "greater_zero = (gbrt.decision_function(X_test) > 0).astype(int)\n",
    "pred = gbrt.classes_[greater_zero]\n",
    "if (np.all(pred == gbrt.predict(X_test))):\n",
    "    print(\"The predictions are same\")\n",
    "else:\n",
    "    print(\"Wrong answer\")"
   ]
  },
  {
   "cell_type": "code",
   "execution_count": 12,
   "metadata": {},
   "outputs": [
    {
     "name": "stdout",
     "output_type": "stream",
     "text": [
      "Minimum value :  -7.69097177301218\n",
      "Maximum value :  4.289866676868515\n"
     ]
    }
   ],
   "source": [
    "#The range of decision function is going to be different and depend on model parameters and the data\n",
    "decision_value = gbrt.decision_function(X_test)\n",
    "print(\"Minimum value : \" , decision_value.min())\n",
    "print(\"Maximum value : \" , decision_value.max())"
   ]
  },
  {
   "cell_type": "code",
   "execution_count": 13,
   "metadata": {},
   "outputs": [],
   "source": [
    "#plotting the decision boundary\n",
    "def decision_boundary (X , y , model):\n",
    "    eps = 0.5\n",
    "    x_min , x_max = X[: , 0].min() - eps , X[: , 0].max() + eps\n",
    "    y_min , y_max = X[: , 1].min() - eps , X[: , 1].max() + eps\n",
    "    \n",
    "    xx = np.linspace(x_min , x_max)\n",
    "    yy = np.linspace(y_min , y_max)\n",
    "    X1 , X2 = np.meshgrid(xx , yy)\n",
    "    X_grid = np.c_[X1.ravel() , X2.ravel()]\n",
    "    \n",
    "    dec = model.decision_function(X_grid).reshape(X1.shape)\n",
    "    plt.contourf(X1 , X2 , dec , alpha = 0.5 , levels = [dec.min() , 0 , dec.max()])\n",
    "    "
   ]
  },
  {
   "cell_type": "code",
   "execution_count": 14,
   "metadata": {},
   "outputs": [],
   "source": [
    "def plot_2d_score(X , y , model):\n",
    "    eps = 0.5\n",
    "    x_min , x_max = X[: , 0].min() - eps , X[: , 0].max() + eps\n",
    "    y_min , y_max = X[: , 1].min() - eps , X[: , 1].max() + eps\n",
    "    \n",
    "    xx = np.linspace(x_min , x_max)\n",
    "    yy = np.linspace(y_min , y_max)\n",
    "    X1 , X2 = np.meshgrid(xx , yy)\n",
    "    X_grid = np.c_[X1.ravel() , X2.ravel()]\n",
    "    \n",
    "    function = getattr(model , \"decision_function\" , getattr(model , \"predict_proba\"))\n",
    "    decision_values = function(X_grid)\n",
    "    \n",
    "    #plotting the imageshow\n",
    "    plt.imshow(decision_values.reshape(X1.shape) , extent = (x_min , x_max , y_min , y_max) , aspect = 'auto' , \n",
    "              origin = 'lower' , alpha = 0.5 )\n",
    "    #plt.colorbar()"
   ]
  },
  {
   "cell_type": "code",
   "execution_count": 15,
   "metadata": {},
   "outputs": [
    {
     "data": {
      "text/plain": [
       "Text(0.5,1,'decision boundary')"
      ]
     },
     "execution_count": 15,
     "metadata": {},
     "output_type": "execute_result"
    },
    {
     "data": {
      "image/png": "[encoded data removed]",
      "text/plain": [
       "<Figure size 576x360 with 1 Axes>"
      ]
     },
     "metadata": {},
     "output_type": "display_data"
    }
   ],
   "source": [
    "plt.figure(figsize = (8 , 5))\n",
    "plot_data_points(X_train , y_train , 'o' , 'train')\n",
    "plot_data_points(X_test , y_test , '^' , 'test')\n",
    "decision_boundary(X , y , gbrt)\n",
    "plt.legend(loc='center left', bbox_to_anchor=(1, 0.5))\n",
    "plt.title('decision boundary')"
   ]
  },
  {
   "cell_type": "code",
   "execution_count": 16,
   "metadata": {},
   "outputs": [
    {
     "data": {
      "text/plain": [
       "Text(0.5,1,'decision function')"
      ]
     },
     "execution_count": 16,
     "metadata": {},
     "output_type": "execute_result"
    },
    {
     "data": {
      "image/png": "[encoded data removed]",
      "text/plain": [
       "<Figure size 576x360 with 1 Axes>"
      ]
     },
     "metadata": {},
     "output_type": "display_data"
    }
   ],
   "source": [
    "plt.figure(figsize = (8 , 5))\n",
    "plot_data_points(X_train , y_train , 'o' , 'train')\n",
    "plot_data_points(X_test , y_test , '^' , 'test')\n",
    "plot_2d_score(X , y , gbrt)\n",
    "plt.legend(loc='center left', bbox_to_anchor=(1, 0.5))\n",
    "plt.title('decision function')"
   ]
  },
  {
   "cell_type": "code",
   "execution_count": 17,
   "metadata": {},
   "outputs": [
    {
     "name": "stdout",
     "output_type": "stream",
     "text": [
      "Shape of probabilities :  (25, 2)\n"
     ]
    }
   ],
   "source": [
    "#now using the prdict probability function\n",
    "print(\"Shape of probabilities : \" , gbrt.predict_proba(X_test).shape)"
   ]
  },
  {
   "cell_type": "code",
   "execution_count": 18,
   "metadata": {},
   "outputs": [
    {
     "name": "stdout",
     "output_type": "stream",
     "text": [
      "Predicted probabilities : \n",
      " [[0.01573626 0.98426374]\n",
      " [0.84575649 0.15424351]\n",
      " [0.98112869 0.01887131]\n",
      " [0.97406775 0.02593225]\n",
      " [0.01352142 0.98647858]\n",
      " [0.02504637 0.97495363]]\n"
     ]
    }
   ],
   "source": [
    "#The first entry is the estimated probability of the first class\n",
    "#The second entry is the estimated probability of the second class\n",
    "#Both the probabilities lie between 0 and 1\n",
    "#The one greater is predicted\n",
    "print(\"Predicted probabilities : \\n\" , gbrt.predict_proba(X_test)[:6, :])"
   ]
  },
  {
   "cell_type": "code",
   "execution_count": 19,
   "metadata": {},
   "outputs": [],
   "source": [
    "#This time we show the class probabilities for the class 1\n",
    "def plot_2d_score_prob(X , y , model):\n",
    "    eps = 0.5\n",
    "    x_min , x_max = X[: , 0].min() - eps , X[: , 0].max() + eps\n",
    "    y_min , y_max = X[: , 1].min() - eps , X[: , 1].max() + eps\n",
    "    \n",
    "    xx = np.linspace(x_min , x_max)\n",
    "    yy = np.linspace(y_min , y_max)\n",
    "    X1 , X2 = np.meshgrid(xx , yy)\n",
    "    X_grid = np.c_[X1.ravel() , X2.ravel()]\n",
    "    \n",
    "    function = getattr(model , \"predict_proba\")\n",
    "    decision_values = function(X_grid)[: , 1]\n",
    "    \n",
    "    #plotting the imageshow\n",
    "    plt.imshow(decision_values.reshape(X1.shape) , extent = (x_min , x_max , y_min , y_max) , aspect = 'auto' , \n",
    "              origin = 'lower' , alpha = 0.5 )"
   ]
  },
  {
   "cell_type": "code",
   "execution_count": 20,
   "metadata": {},
   "outputs": [
    {
     "data": {
      "text/plain": [
       "Text(0.5,1,'probability of the data points')"
      ]
     },
     "execution_count": 20,
     "metadata": {},
     "output_type": "execute_result"
    },
    {
     "data": {
      "image/png": "[encoded data removed]",
      "text/plain": [
       "<Figure size 576x360 with 1 Axes>"
      ]
     },
     "metadata": {},
     "output_type": "display_data"
    }
   ],
   "source": [
    "plt.figure(figsize = (8 , 5))\n",
    "plot_2d_score_prob(X , y , gbrt)\n",
    "plot_data_points(X_train , y_train , 'o' , 'train')\n",
    "plot_data_points(X_test , y_test , '^' , 'test')\n",
    "plt.legend(loc = 'center left' , bbox_to_anchor = (1 , 0.5))\n",
    "plt.title('probability of the data points')"
   ]
  },
  {
   "cell_type": "code",
   "execution_count": 21,
   "metadata": {},
   "outputs": [
    {
     "data": {
      "text/plain": [
       "GradientBoostingClassifier(criterion='friedman_mse', init=None,\n",
       "              learning_rate=0.01, loss='deviance', max_depth=3,\n",
       "              max_features=None, max_leaf_nodes=None,\n",
       "              min_impurity_decrease=0.0, min_impurity_split=None,\n",
       "              min_samples_leaf=1, min_samples_split=2,\n",
       "              min_weight_fraction_leaf=0.0, n_estimators=100,\n",
       "              presort='auto', random_state=0, subsample=1.0, verbose=0,\n",
       "              warm_start=False)"
      ]
     },
     "execution_count": 21,
     "metadata": {},
     "output_type": "execute_result"
    }
   ],
   "source": [
    "#Both these functions for multiclass classification\n",
    "#Work with the iris dataset\n",
    "from sklearn.datasets import load_iris\n",
    "iris = load_iris()\n",
    "X_train , X_test , y_train , y_test = train_test_split(iris.data , iris.target)\n",
    "gbrt = GradientBoostingClassifier(learning_rate = 0.01 , random_state = 0)\n",
    "gbrt.fit(X_train , y_train)"
   ]
  },
  {
   "cell_type": "code",
   "execution_count": 22,
   "metadata": {},
   "outputs": [
    {
     "name": "stdout",
     "output_type": "stream",
     "text": [
      "Decision function shape :  (38, 3)\n",
      "Decision function values : \n",
      " [[-0.50191386  1.23281092  0.73715427]\n",
      " [-0.50128519  1.46615067 -0.51895671]\n",
      " [-0.49886021  1.46615067 -0.51895671]\n",
      " [-0.49736367 -0.49638955  1.51369946]\n",
      " [-0.50128519  1.46615067 -0.51895671]\n",
      " [-0.50128519  1.46615067 -0.51895671]]\n"
     ]
    }
   ],
   "source": [
    "print(\"Decision function shape : \" , gbrt.decision_function(X_test).shape)\n",
    "print(\"Decision function values : \\n\" , gbrt.decision_function(X_test)[:6 , :])\n",
    "\n",
    "#in the multi class classification the decision function have the dim = (n_samles , n_classes)\n",
    "#Each col give the certainity score of the class\n",
    "#large score more likely\n",
    "#less score less likely"
   ]
  },
  {
   "cell_type": "code",
   "execution_count": 23,
   "metadata": {},
   "outputs": [
    {
     "name": "stdout",
     "output_type": "stream",
     "text": [
      "Argmax of decision function : \n",
      " [1 1 1 2 1 1 1 2 1 2 2 1 1 0 0 0 0 2 0 2 1 0 2 2 2 2 0 1 1 0 2 2 2 2 0 0 1\n",
      " 0]\n",
      "Predicted values : \n",
      " [1 1 1 2 1 1 1 2 1 2 2 1 1 0 0 0 0 2 0 2 1 0 2 2 2 2 0 1 1 0 2 2 2 2 0 0 1\n",
      " 0]\n"
     ]
    }
   ],
   "source": [
    "#recovering prediction\n",
    "print(\"Argmax of decision function : \\n\" ,np.argmax(gbrt.decision_function(X_test) , axis = 1) )\n",
    "print(\"Predicted values : \\n\" , gbrt.predict(X_test))"
   ]
  },
  {
   "cell_type": "code",
   "execution_count": 24,
   "metadata": {},
   "outputs": [
    {
     "name": "stdout",
     "output_type": "stream",
     "text": [
      "Predicted probability shape :  (38, 3)\n",
      "Predicted values : \n",
      " [[0.09881655 0.56002972 0.34115373]\n",
      " [0.10947151 0.78297452 0.10755397]\n",
      " [0.10970813 0.78276647 0.10752539]\n",
      " [0.10557175 0.10567464 0.7887536 ]\n",
      " [0.10947151 0.78297452 0.10755397]\n",
      " [0.10947151 0.78297452 0.10755397]]\n"
     ]
    }
   ],
   "source": [
    "#Dealing with predicted values\n",
    "print(\"Predicted probability shape : \" , gbrt.predict_proba(X_test).shape)\n",
    "print(\"Predicted values : \\n\" , gbrt.predict_proba(X_test)[:6 , :])\n",
    "#shape is (n_samples , n_classes)"
   ]
  },
  {
   "cell_type": "code",
   "execution_count": 25,
   "metadata": {},
   "outputs": [
    {
     "name": "stdout",
     "output_type": "stream",
     "text": [
      "argmax of the predicted values : \n",
      " [1 1 1 2 1 1 1 2 1 2 2 1 1 0 0 0 0 2 0 2 1 0 2 2 2 2 0 1 1 0 2 2 2 2 0 0 1\n",
      " 0]\n",
      "Predicted values : \n",
      " [1 1 1 2 1 1 1 2 1 2 2 1 1 0 0 0 0 2 0 2 1 0 2 2 2 2 0 1 1 0 2 2 2 2 0 0 1\n",
      " 0]\n"
     ]
    }
   ],
   "source": [
    "#predicting the values\n",
    "print(\"argmax of the predicted values : \\n\" , np.argmax(gbrt.predict_proba(X_test) , axis = 1))\n",
    "print(\"Predicted values : \\n\" , gbrt.predict(X_test))"
   ]
  },
  {
   "cell_type": "code",
   "execution_count": 26,
   "metadata": {},
   "outputs": [
    {
     "data": {
      "text/plain": [
       "LogisticRegression(C=1.0, class_weight=None, dual=False, fit_intercept=True,\n",
       "          intercept_scaling=1, max_iter=100, multi_class='ovr', n_jobs=1,\n",
       "          penalty='l2', random_state=None, solver='liblinear', tol=0.0001,\n",
       "          verbose=0, warm_start=False)"
      ]
     },
     "execution_count": 26,
     "metadata": {},
     "output_type": "execute_result"
    }
   ],
   "source": [
    "from sklearn.linear_model import LogisticRegression\n",
    "logreg = LogisticRegression()\n",
    "named_target = iris.target_names[y_train]\n",
    "logreg.fit(X_train , named_target)"
   ]
  },
  {
   "cell_type": "code",
   "execution_count": 27,
   "metadata": {},
   "outputs": [
    {
     "name": "stdout",
     "output_type": "stream",
     "text": [
      "Classes in training set :  ['setosa' 'versicolor' 'virginica']\n",
      "Prediction : \n",
      " ['virginica' 'versicolor' 'versicolor' 'virginica' 'versicolor'\n",
      " 'versicolor' 'versicolor' 'virginica' 'versicolor' 'virginica']\n",
      "argmax of the decision function :  [2 1 1 2 1 1 1 2 1 2]\n",
      "argmax combined with classes : \n",
      " ['virginica' 'versicolor' 'versicolor' 'virginica' 'versicolor'\n",
      " 'versicolor' 'versicolor' 'virginica' 'versicolor' 'virginica']\n"
     ]
    }
   ],
   "source": [
    "print(\"Classes in training set : \" , iris.target_names)\n",
    "print(\"Prediction : \\n\" , logreg.predict(X_test)[:10])\n",
    "argmax = np.argmax(logreg.decision_function(X_test) , axis = 1)\n",
    "print(\"argmax of the decision function : \" , argmax[:10])\n",
    "print(\"argmax combined with classes : \\n\" , logreg.classes_[argmax][:10])"
   ]
  },
  {
   "cell_type": "code",
   "execution_count": null,
   "metadata": {},
   "outputs": [],
   "source": []
  },
  {
   "cell_type": "code",
   "execution_count": null,
   "metadata": {},
   "outputs": [],
   "source": []
  }
 ],
 "metadata": {
  "kernelspec": {
   "display_name": "Python 3",
   "language": "python",
   "name": "python3"
  },
  "language_info": {
   "codemirror_mode": {
    "name": "ipython",
    "version": 3
   },
   "file_extension": ".py",
   "mimetype": "text/x-python",
   "name": "python",
   "nbconvert_exporter": "python",
   "pygments_lexer": "ipython3",
   "version": "3.6.5"
  }
 },
 "nbformat": 4,
 "nbformat_minor": 2
}
