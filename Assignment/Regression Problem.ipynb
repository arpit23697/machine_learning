{
 "cells": [
  {
   "cell_type": "code",
   "execution_count": 1,
   "metadata": {},
   "outputs": [],
   "source": [
    "import pandas as pd\n",
    "import numpy as np\n",
    "import matplotlib.pyplot as plt"
   ]
  },
  {
   "cell_type": "code",
   "execution_count": 2,
   "metadata": {
    "scrolled": true
   },
   "outputs": [
    {
     "data": {
      "text/html": [
       "<div>\n",
       "<style scoped>\n",
       "    .dataframe tbody tr th:only-of-type {\n",
       "        vertical-align: middle;\n",
       "    }\n",
       "\n",
       "    .dataframe tbody tr th {\n",
       "        vertical-align: top;\n",
       "    }\n",
       "\n",
       "    .dataframe thead th {\n",
       "        text-align: right;\n",
       "    }\n",
       "</style>\n",
       "<table border=\"1\" class=\"dataframe\">\n",
       "  <thead>\n",
       "    <tr style=\"text-align: right;\">\n",
       "      <th></th>\n",
       "      <th>affinity</th>\n",
       "      <th>score</th>\n",
       "      <th>gauss1</th>\n",
       "      <th>gauss2</th>\n",
       "      <th>repulsion</th>\n",
       "      <th>hydrophobic</th>\n",
       "      <th>hydrogen</th>\n",
       "    </tr>\n",
       "  </thead>\n",
       "  <tbody>\n",
       "    <tr>\n",
       "      <th>0</th>\n",
       "      <td>-2.745424</td>\n",
       "      <td>-3.13245</td>\n",
       "      <td>48.02108</td>\n",
       "      <td>434.90009</td>\n",
       "      <td>1.00229</td>\n",
       "      <td>17.16027</td>\n",
       "      <td>1.04153</td>\n",
       "    </tr>\n",
       "    <tr>\n",
       "      <th>1</th>\n",
       "      <td>-2.745424</td>\n",
       "      <td>-4.57551</td>\n",
       "      <td>45.86394</td>\n",
       "      <td>906.54910</td>\n",
       "      <td>4.54990</td>\n",
       "      <td>0.00000</td>\n",
       "      <td>7.21115</td>\n",
       "    </tr>\n",
       "    <tr>\n",
       "      <th>2</th>\n",
       "      <td>-2.745424</td>\n",
       "      <td>-4.58830</td>\n",
       "      <td>49.45446</td>\n",
       "      <td>708.90695</td>\n",
       "      <td>4.56065</td>\n",
       "      <td>10.12192</td>\n",
       "      <td>5.42312</td>\n",
       "    </tr>\n",
       "    <tr>\n",
       "      <th>3</th>\n",
       "      <td>-2.745424</td>\n",
       "      <td>-3.13634</td>\n",
       "      <td>54.99922</td>\n",
       "      <td>768.05907</td>\n",
       "      <td>5.70052</td>\n",
       "      <td>31.01157</td>\n",
       "      <td>2.34365</td>\n",
       "    </tr>\n",
       "    <tr>\n",
       "      <th>4</th>\n",
       "      <td>-2.814060</td>\n",
       "      <td>-5.04353</td>\n",
       "      <td>53.45864</td>\n",
       "      <td>1053.90858</td>\n",
       "      <td>1.63114</td>\n",
       "      <td>0.00000</td>\n",
       "      <td>2.94989</td>\n",
       "    </tr>\n",
       "  </tbody>\n",
       "</table>\n",
       "</div>"
      ],
      "text/plain": [
       "   affinity    score    gauss1      gauss2  repulsion  hydrophobic  hydrogen\n",
       "0 -2.745424 -3.13245  48.02108   434.90009    1.00229     17.16027   1.04153\n",
       "1 -2.745424 -4.57551  45.86394   906.54910    4.54990      0.00000   7.21115\n",
       "2 -2.745424 -4.58830  49.45446   708.90695    4.56065     10.12192   5.42312\n",
       "3 -2.745424 -3.13634  54.99922   768.05907    5.70052     31.01157   2.34365\n",
       "4 -2.814060 -5.04353  53.45864  1053.90858    1.63114      0.00000   2.94989"
      ]
     },
     "execution_count": 2,
     "metadata": {},
     "output_type": "execute_result"
    }
   ],
   "source": [
    "df = pd.read_csv(\"/home/arpit/study/ML/github/Assignment/train.dat\" , sep='\\s+')\n",
    "df.head()"
   ]
  },
  {
   "cell_type": "code",
   "execution_count": 3,
   "metadata": {},
   "outputs": [
    {
     "data": {
      "text/plain": [
       "RangeIndex(start=0, stop=3248, step=1)"
      ]
     },
     "execution_count": 3,
     "metadata": {},
     "output_type": "execute_result"
    }
   ],
   "source": [
    "df.index"
   ]
  },
  {
   "cell_type": "code",
   "execution_count": 4,
   "metadata": {},
   "outputs": [
    {
     "data": {
      "text/plain": [
       "Index(['affinity', 'score', 'gauss1', 'gauss2', 'repulsion', 'hydrophobic',\n",
       "       'hydrogen'],\n",
       "      dtype='object')"
      ]
     },
     "execution_count": 4,
     "metadata": {},
     "output_type": "execute_result"
    }
   ],
   "source": [
    "df.columns"
   ]
  },
  {
   "cell_type": "code",
   "execution_count": 5,
   "metadata": {},
   "outputs": [
    {
     "name": "stdout",
     "output_type": "stream",
     "text": [
      "Number of rows :  3248\n",
      "Number of columns :  7\n"
     ]
    }
   ],
   "source": [
    "row , col = df.shape\n",
    "print (\"Number of rows : \" , row )\n",
    "print (\"Number of columns : \" , col)"
   ]
  },
  {
   "cell_type": "raw",
   "metadata": {},
   "source": [
    "#checking if there are any null values\n",
    "#there are no missing values \n",
    "for x in df.columns:\n",
    "    if (df[x].isnull().any()):\n",
    "        print (x , \" : contains the null values\")\n",
    "    else:\n",
    "        print(x , \" : does not contain the null values\")"
   ]
  },
  {
   "cell_type": "code",
   "execution_count": 6,
   "metadata": {},
   "outputs": [
    {
     "data": {
      "text/plain": [
       "0.46993385510681335"
      ]
     },
     "execution_count": 6,
     "metadata": {},
     "output_type": "execute_result"
    }
   ],
   "source": [
    "#checking the correlation coefficient in between the actual and the predicted y\n",
    "np.corrcoef(df['affinity'] , df['score'])[ 0 , 1]"
   ]
  },
  {
   "cell_type": "code",
   "execution_count": 7,
   "metadata": {},
   "outputs": [
    {
     "data": {
      "text/plain": [
       "[<matplotlib.lines.Line2D at 0x7fa3bf0e8668>]"
      ]
     },
     "execution_count": 7,
     "metadata": {},
     "output_type": "execute_result"
    },
    {
     "data": {
      "image/png": "[encoded data removed]",
      "text/plain": [
       "<Figure size 720x720 with 1 Axes>"
      ]
     },
     "metadata": {},
     "output_type": "display_data"
    }
   ],
   "source": [
    "#plotting each pair and seeing the relation\n",
    "plt.figure(figsize= (10, 10))\n",
    "plt.plot (df['affinity'] , df['gauss1'] , 'o')"
   ]
  },
  {
   "cell_type": "code",
   "execution_count": 8,
   "metadata": {},
   "outputs": [
    {
     "name": "stdout",
     "output_type": "stream",
     "text": [
      "Shape of the training data set is :  (3248, 5)\n",
      "Shape of X_train :  (2436, 5)\n",
      "Shape of X_test :  (812, 5)\n"
     ]
    }
   ],
   "source": [
    "#this is to take the training features and then normalize it\n",
    "X = np.asarray(df.loc[: , \"gauss1\" : \"hydrogen\"])\n",
    "print(\"Shape of the training data set is : \" , X.shape)\n",
    "y = np.asarray(df['score'])\n",
    "\n",
    "#splitting the data set into training and test data set\n",
    "from sklearn.model_selection import train_test_split\n",
    "X_train , X_test , y_train , y_test = train_test_split(X , y ,random_state = 0 )\n",
    "\n",
    "print(\"Shape of X_train : \" , X_train.shape)\n",
    "print(\"Shape of X_test : \" , X_test.shape)"
   ]
  },
  {
   "cell_type": "code",
   "execution_count": 9,
   "metadata": {},
   "outputs": [
    {
     "name": "stdout",
     "output_type": "stream",
     "text": [
      "max in training data set :  [ 257.50253 3403.87776   20.13565  166.59113   22.80418]\n",
      "Min in training data set :  [7.4972800e+00 2.6998935e+02 1.2146000e-01 0.0000000e+00 0.0000000e+00]\n",
      "max in training data set after scaling:  [4.70708954 3.80542836 6.14173073 4.87972198 5.0628186 ]\n",
      "Min in training data set after scaling:  [-2.45917255 -1.97960186 -1.80577615 -1.14929387 -1.43956354]\n"
     ]
    }
   ],
   "source": [
    "#now scaling the data\n",
    "from sklearn.preprocessing import StandardScaler\n",
    "scaler = StandardScaler()\n",
    "print (\"max in training data set : \" , X_train.max(axis = 0))\n",
    "print (\"Min in training data set : \" , X_train.min(axis = 0))\n",
    "\n",
    "scaler.fit(X_train)\n",
    "X_train_scaled = scaler.transform(X_train)\n",
    "X_test_scaled = scaler.transform(X_test)\n",
    "\n",
    "print (\"max in training data set after scaling: \" , X_train_scaled.max(axis = 0))\n",
    "print(\"Min in training data set after scaling: \" , X_train_scaled.min(axis = 0))"
   ]
  },
  {
   "cell_type": "code",
   "execution_count": 10,
   "metadata": {},
   "outputs": [
    {
     "name": "stdout",
     "output_type": "stream",
     "text": [
      "Linear regression train score :  0.7453587831618427\n",
      "Linear regression test score :  0.7517396537998521\n",
      "Correlation coefficients  0.8672423756411922\n"
     ]
    }
   ],
   "source": [
    "#fitting the model with the linear regression without the polynomial features\n",
    "from sklearn.linear_model import Ridge\n",
    "lr = Ridge(alpha = 10)\n",
    "lr.fit (X_train_scaled , y_train)\n",
    "print (\"Linear regression train score : \" , lr.score(X_train_scaled , y_train))\n",
    "print(\"Linear regression test score : \" , lr.score(X_test_scaled , y_test))\n",
    "print(\"Correlation coefficients \", np.corrcoef(y_test , lr.predict(X_test_scaled))[0, 1])"
   ]
  },
  {
   "cell_type": "code",
   "execution_count": 11,
   "metadata": {},
   "outputs": [
    {
     "name": "stdout",
     "output_type": "stream",
     "text": [
      "Lambda :  0\n",
      "      Train Score :  0.7454119381680999\n",
      "      Test score :  0.7519117434818351\n",
      "      correlation coef :  0.8674296904740593\n",
      "Lambda :  0.01\n",
      "      Train Score :  0.7454119381128699\n",
      "      Test score :  0.7519116240672858\n",
      "      correlation coef :  0.8674295199089928\n",
      "Lambda :  0.03\n",
      "      Train Score :  0.7454119376710668\n",
      "      Test score :  0.7519113849094266\n",
      "      correlation coef :  0.8674291786746164\n",
      "Lambda :  0.1\n",
      "      Train Score :  0.7454119326470113\n",
      "      Test score :  0.7519105444062787\n",
      "      correlation coef :  0.8674279832601253\n",
      "Lambda :  0.3\n",
      "      Train Score :  0.7454118885168839\n",
      "      Test score :  0.751908113425244\n",
      "      correlation coef :  0.8674245584213475\n",
      "Lambda :  1\n",
      "      Train Score :  0.7454113879838712\n",
      "      Test score :  0.751899261618888\n",
      "      correlation coef :  0.8674124625644617\n",
      "Lambda :  3\n",
      "      Train Score :  0.7454070246360227\n",
      "      Test score :  0.7518710605738494\n",
      "      correlation coef :  0.8673769790583129\n",
      "Lambda :  10\n",
      "      Train Score :  0.7453587831618427\n",
      "      Test score :  0.7517396537998521\n",
      "      correlation coef :  0.8672423756411922\n"
     ]
    }
   ],
   "source": [
    "alpha = [0 , 0.01 , 0.03 , 0.1 , 0.3 , 1 , 3 , 10 ]\n",
    "for x in alpha :\n",
    "    lr = Ridge(alpha = x)\n",
    "    lr.fit(X_train_scaled , y_train)\n",
    "    print(\"Lambda : \" , x)\n",
    "    print(\"      Train Score : \" , lr.score(X_train_scaled , y_train))\n",
    "    print(\"      Test score : \" , lr.score(X_test_scaled , y_test))\n",
    "    print(\"      correlation coef : \" , np.corrcoef(y_test , lr.predict(X_test_scaled))[0 , 1])"
   ]
  },
  {
   "cell_type": "code",
   "execution_count": 12,
   "metadata": {},
   "outputs": [
    {
     "name": "stdout",
     "output_type": "stream",
     "text": [
      "X_poly shape :  ['x0', 'x1', 'x2', 'x3', 'x4', 'x0^2', 'x0 x1', 'x0 x2', 'x0 x3', 'x0 x4', 'x1^2', 'x1 x2', 'x1 x3', 'x1 x4', 'x2^2', 'x2 x3', 'x2 x4', 'x3^2', 'x3 x4', 'x4^2', 'x0^3', 'x0^2 x1', 'x0^2 x2', 'x0^2 x3', 'x0^2 x4', 'x0 x1^2', 'x0 x1 x2', 'x0 x1 x3', 'x0 x1 x4', 'x0 x2^2', 'x0 x2 x3', 'x0 x2 x4', 'x0 x3^2', 'x0 x3 x4', 'x0 x4^2', 'x1^3', 'x1^2 x2', 'x1^2 x3', 'x1^2 x4', 'x1 x2^2', 'x1 x2 x3', 'x1 x2 x4', 'x1 x3^2', 'x1 x3 x4', 'x1 x4^2', 'x2^3', 'x2^2 x3', 'x2^2 x4', 'x2 x3^2', 'x2 x3 x4', 'x2 x4^2', 'x3^3', 'x3^2 x4', 'x3 x4^2', 'x4^3']\n",
      "Dataset size :  (2436, 55)\n",
      "Test dataset size :  (812, 55)\n",
      "Lambda :  0\n",
      "      Train Score :  0.8334660742698167\n",
      "      Test score :  0.8223565694737449\n",
      "      correlation coef :  0.906872924863865\n",
      "Lambda :  0.01\n",
      "      Train Score :  0.8334250915539716\n",
      "      Test score :  0.8224104573085964\n",
      "      correlation coef :  0.9069033512994097\n",
      "Lambda :  0.03\n",
      "      Train Score :  0.8333043447310314\n",
      "      Test score :  0.8228674096945399\n",
      "      correlation coef :  0.907158064500095\n",
      "Lambda :  0.1\n",
      "      Train Score :  0.8329745314077391\n",
      "      Test score :  0.8246688471610696\n",
      "      correlation coef :  0.9081648839771416\n",
      "Lambda :  0.3\n",
      "      Train Score :  0.8322703894478455\n",
      "      Test score :  0.8281487388609858\n",
      "      correlation coef :  0.9101214814215712\n",
      "Lambda :  1\n",
      "      Train Score :  0.8303735143459944\n",
      "      Test score :  0.8324705022930197\n",
      "      correlation coef :  0.9125774037537839\n",
      "Lambda :  3\n",
      "      Train Score :  0.8269381921108745\n",
      "      Test score :  0.8318267377529421\n",
      "      correlation coef :  0.9122657529752498\n",
      "Lambda :  10\n",
      "      Train Score :  0.8216746668365611\n",
      "      Test score :  0.820516266044245\n",
      "      correlation coef :  0.9060144400986071\n"
     ]
    }
   ],
   "source": [
    "#using the polynomial features\n",
    "from sklearn.preprocessing import PolynomialFeatures\n",
    "poly = PolynomialFeatures(degree = 3, include_bias = False)   #not include_bias means no column with only ones\n",
    "poly.fit(X)\n",
    "X_poly = poly.transform(X)\n",
    "print(\"X_poly shape : \" , poly.get_feature_names())\n",
    "\n",
    "#splitting the training and test data set\n",
    "from sklearn.model_selection import train_test_split\n",
    "X_train_poly , X_test_poly ,y_train , y_test= train_test_split(X_poly , y , random_state = 0)\n",
    "\n",
    "print(\"Dataset size : \" , X_train_poly.shape)\n",
    "print(\"Test dataset size : \" , X_test_poly.shape)\n",
    "\n",
    "from sklearn.preprocessing import StandardScaler\n",
    "scaler2 = StandardScaler()\n",
    "scaler2.fit(X_train_poly)\n",
    "X_train_poly_scaled = scaler2.transform(X_train_poly)\n",
    "X_test_poly_scaled = scaler2.transform(X_test_poly)\n",
    "X_temp = scaler2.transform(X_poly)\n",
    "\n",
    "from sklearn.linear_model import Ridge\n",
    "alpha = [0 , 0.01 , 0.03 , 0.1 , 0.3 , 1 , 3 , 10 ]\n",
    "for x in alpha :\n",
    "    lr2 = Ridge(alpha = x)\n",
    "    lr2.fit(X_train_poly_scaled , y_train)\n",
    "    print(\"Lambda : \" , x)\n",
    "    print(\"      Train Score : \" , lr2.score(X_train_poly_scaled , y_train))\n",
    "    print(\"      Test score : \" , lr2.score(X_test_poly_scaled , y_test))\n",
    "    print(\"      correlation coef : \" , np.corrcoef(y_test , lr2.predict(X_test_poly_scaled))[0 , 1])\n"
   ]
  },
  {
   "cell_type": "code",
   "execution_count": 13,
   "metadata": {},
   "outputs": [
    {
     "name": "stdout",
     "output_type": "stream",
     "text": [
      "Max depth :  2\n",
      "   Train error :  0.5875151382424603\n",
      "   Test error :  0.5711413170726254\n",
      "   Coorelation coefficient :  0.7574439647502287\n",
      "Max depth :  3\n",
      "   Train error :  0.6512799733497172\n",
      "   Test error :  0.6308937996188727\n",
      "   Coorelation coefficient :  0.7952586692438508\n",
      "Max depth :  4\n",
      "   Train error :  0.7120734873727775\n",
      "   Test error :  0.6795592883159789\n",
      "   Coorelation coefficient :  0.8255863358653137\n",
      "Max depth :  5\n",
      "   Train error :  0.7663161300206587\n",
      "   Test error :  0.7174266628628999\n",
      "   Coorelation coefficient :  0.8481285037826372\n",
      "Max depth :  6\n",
      "   Train error :  0.8029392912712359\n",
      "   Test error :  0.7391773747531719\n",
      "   Coorelation coefficient :  0.8602052128337137\n",
      "Max depth :  7\n",
      "   Train error :  0.8417545673972233\n",
      "   Test error :  0.7608473151474924\n",
      "   Coorelation coefficient :  0.8729362615733349\n",
      "Max depth :  8\n",
      "   Train error :  0.8671024871389239\n",
      "   Test error :  0.7682233547176807\n",
      "   Coorelation coefficient :  0.8769435736449318\n",
      "Max depth :  9\n",
      "   Train error :  0.8933444268046941\n",
      "   Test error :  0.7763453311742577\n",
      "   Coorelation coefficient :  0.8813561457649919\n",
      "Max depth :  10\n",
      "   Train error :  0.9104213083624169\n",
      "   Test error :  0.778695243021952\n",
      "   Coorelation coefficient :  0.8825209956901644\n",
      "Max depth :  11\n",
      "   Train error :  0.9255979417209298\n",
      "   Test error :  0.7840141173257883\n",
      "   Coorelation coefficient :  0.8854718729268964\n",
      "Max depth :  12\n",
      "   Train error :  0.9411323497203303\n",
      "   Test error :  0.7742254506539168\n",
      "   Coorelation coefficient :  0.8801110603993184\n",
      "Max depth :  20\n",
      "   Train error :  0.9590474341686327\n",
      "   Test error :  0.7810603786265837\n",
      "   Coorelation coefficient :  0.8837834266403277\n"
     ]
    }
   ],
   "source": [
    "#this is to use the random forest\n",
    "from sklearn.ensemble import RandomForestRegressor\n",
    "depth = [2 ,3 ,4 ,5 ,6 ,7 ,8, 9 , 10 , 11 , 12,20]\n",
    "\n",
    "for x in depth:\n",
    "    random_forest = RandomForestRegressor(n_estimators=10, max_depth = x)\n",
    "    random_forest.fit(X_train , y_train)          #there is no need to scale the data\n",
    "    print(\"Max depth : \" , x)\n",
    "    print(\"   Train error : \" , random_forest.score(X_train , y_train))\n",
    "    print(\"   Test error : \" , random_forest.score(X_test , y_test))\n",
    "    print(\"   Coorelation coefficient : \" , np.corrcoef(random_forest.predict(X_test) , y_test)[0, 1] )\n"
   ]
  },
  {
   "cell_type": "code",
   "execution_count": null,
   "metadata": {},
   "outputs": [],
   "source": []
  }
 ],
 "metadata": {
  "kernelspec": {
   "display_name": "Python 3",
   "language": "python",
   "name": "python3"
  },
  "language_info": {
   "codemirror_mode": {
    "name": "ipython",
    "version": 3
   },
   "file_extension": ".py",
   "mimetype": "text/x-python",
   "name": "python",
   "nbconvert_exporter": "python",
   "pygments_lexer": "ipython3",
   "version": "3.6.5"
  }
 },
 "nbformat": 4,
 "nbformat_minor": 2
}
