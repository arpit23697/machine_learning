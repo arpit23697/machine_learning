{
 "cells": [
  {
   "cell_type": "code",
   "execution_count": 1,
   "metadata": {},
   "outputs": [],
   "source": [
    "import pandas as pd\n",
    "import numpy as np\n",
    "import matplotlib.pyplot as plt\n",
    "import time"
   ]
  },
  {
   "cell_type": "code",
   "execution_count": 2,
   "metadata": {},
   "outputs": [
    {
     "data": {
      "text/plain": [
       "x    0.000000\n",
       "y   -3.839981\n",
       "dtype: float64"
      ]
     },
     "execution_count": 2,
     "metadata": {},
     "output_type": "execute_result"
    }
   ],
   "source": [
    "#this is to import the data \n",
    "#this is for the training set\n",
    "df_train = pd.read_csv (\"/home/arpit/study/ML/linearRegression/random-linear-regression/train.csv\")\n",
    "df_train = df_train.interpolate(method = 'linear')\n",
    "m_train = df_train.shape[0]\n",
    "df_train.min()"
   ]
  },
  {
   "cell_type": "code",
   "execution_count": 3,
   "metadata": {},
   "outputs": [
    {
     "data": {
      "text/plain": [
       "300"
      ]
     },
     "execution_count": 3,
     "metadata": {},
     "output_type": "execute_result"
    }
   ],
   "source": [
    "#this is for the test set\n",
    "df_test = pd.read_csv(\"/home/arpit/study/ML/linearRegression/random-linear-regression/test.csv\")\n",
    "m_test = df_test.shape[0]\n",
    "m_test"
   ]
  },
  {
   "cell_type": "code",
   "execution_count": 4,
   "metadata": {},
   "outputs": [],
   "source": [
    "df_train = df_train.values                          #making the array"
   ]
  },
  {
   "cell_type": "code",
   "execution_count": 5,
   "metadata": {},
   "outputs": [],
   "source": [
    "normal = df_train > 200\n",
    "df_train[normal] = 100"
   ]
  },
  {
   "cell_type": "code",
   "execution_count": 6,
   "metadata": {},
   "outputs": [
    {
     "data": {
      "text/plain": [
       "[<matplotlib.lines.Line2D at 0x7f7303705400>]"
      ]
     },
     "execution_count": 6,
     "metadata": {},
     "output_type": "execute_result"
    },
    {
     "data": {
      "image/png": "[encoded data removed]",
      "text/plain": [
       "<Figure size 432x288 with 1 Axes>"
      ]
     },
     "metadata": {},
     "output_type": "display_data"
    }
   ],
   "source": [
    "#plotting the training set to visualize the data \n",
    "#plotting the hundred data points\n",
    "plt.plot(df_train[0:m_train , 0] , df_train[0:m_train , 1] , 'g+')"
   ]
  },
  {
   "cell_type": "code",
   "execution_count": 7,
   "metadata": {},
   "outputs": [],
   "source": [
    "mu = df_train.mean(axis = 0)\n",
    "sd = df_train.std(axis = 0)\n",
    "\n"
   ]
  },
  {
   "cell_type": "code",
   "execution_count": 8,
   "metadata": {},
   "outputs": [
    {
     "data": {
      "text/plain": [
       "(700, 2)"
      ]
     },
     "execution_count": 8,
     "metadata": {},
     "output_type": "execute_result"
    }
   ],
   "source": [
    "#making the array of the df\n",
    "X = ((df_train[ : , 0] - mu[0])/sd[0]).reshape(m_train , 1)   #taking all the df_train x's and putting them into one-dimensional vector\n",
    "X = np.hstack ( (np.ones((m_train , 1)) ,X) )\n",
    "X.shape"
   ]
  },
  {
   "cell_type": "code",
   "execution_count": 9,
   "metadata": {
    "scrolled": true
   },
   "outputs": [
    {
     "data": {
      "text/plain": [
       "(700, 1)"
      ]
     },
     "execution_count": 9,
     "metadata": {},
     "output_type": "execute_result"
    }
   ],
   "source": [
    "y = df_train[: , 1].reshape(m_train, 1)    #this is the y of the training set\n",
    "y.shape"
   ]
  },
  {
   "cell_type": "code",
   "execution_count": 10,
   "metadata": {},
   "outputs": [
    {
     "data": {
      "text/plain": [
       "[<matplotlib.lines.Line2D at 0x7f7303695208>]"
      ]
     },
     "execution_count": 10,
     "metadata": {},
     "output_type": "execute_result"
    },
    {
     "data": {
      "image/png": "[encoded data removed]",
      "text/plain": [
       "<Figure size 432x288 with 1 Axes>"
      ]
     },
     "metadata": {},
     "output_type": "display_data"
    }
   ],
   "source": [
    "plt.plot(X[0:m_train , 1] , y[0:m_train , 0] , 'g+')"
   ]
  },
  {
   "cell_type": "code",
   "execution_count": 11,
   "metadata": {},
   "outputs": [],
   "source": [
    "alpha = 0.03"
   ]
  },
  {
   "cell_type": "code",
   "execution_count": 12,
   "metadata": {},
   "outputs": [],
   "source": [
    "epsilon = 0.000001"
   ]
  },
  {
   "cell_type": "code",
   "execution_count": 13,
   "metadata": {},
   "outputs": [],
   "source": [
    "iteration = 100"
   ]
  },
  {
   "cell_type": "code",
   "execution_count": 14,
   "metadata": {},
   "outputs": [],
   "source": [
    "def compute_J (theta):\n",
    "    error = (X.dot(theta) - y).transpose()\n",
    "    error = error * error\n",
    "    error = (error.sum()) / (m_train * 2)\n",
    "    return error"
   ]
  },
  {
   "cell_type": "code",
   "execution_count": 15,
   "metadata": {},
   "outputs": [],
   "source": [
    "def gradient (theta , alpha):\n",
    "    temp = (X.dot(theta) - y).transpose()\n",
    "    grad = (temp.dot(X) / m_train ).transpose()\n",
    "    return grad"
   ]
  },
  {
   "cell_type": "code",
   "execution_count": 16,
   "metadata": {},
   "outputs": [],
   "source": [
    "#this is for the gradient descent block\n",
    "n = 2                      #this one have only two features\n",
    "num_of_iteration = 0\n",
    "theta = np.ones((n , 1))\n",
    "cost1 = compute_J (theta)\n",
    "\n",
    "\n",
    "J = np.ones((1 , 2))\n",
    "while (True):\n",
    "    num_of_iteration+=1\n",
    "\n",
    "    #this is to update the value of theta\n",
    "    grad = gradient(theta,alpha)\n",
    "    theta = theta - alpha * grad\n",
    "        \n",
    "    #this is to compute the error and terminate gradient descent when the J almost becomes constant\n",
    "    cost2 = compute_J (theta)\n",
    "    track = np.array([num_of_iteration , cost2])\n",
    "    J = np.vstack((J , track))\n",
    "    \n",
    "    if (abs(cost2 - cost1) < epsilon):\n",
    "        break\n",
    "    cost1 = cost2\n",
    "    \n"
   ]
  },
  {
   "cell_type": "code",
   "execution_count": 17,
   "metadata": {},
   "outputs": [
    {
     "name": "stdout",
     "output_type": "stream",
     "text": [
      "number_of_iteration =  303\n",
      "\n",
      "Theta\n",
      " [[49.98804891]\n",
      " [28.95920038]]\n",
      "\n",
      "cost =  4.046958760264129\n"
     ]
    }
   ],
   "source": [
    "print(\"number_of_iteration = \", num_of_iteration)\n",
    "print('\\nTheta\\n' , theta)\n",
    "print('\\ncost = ' , compute_J(theta))"
   ]
  },
  {
   "cell_type": "code",
   "execution_count": 18,
   "metadata": {},
   "outputs": [
    {
     "data": {
      "text/plain": [
       "[<matplotlib.lines.Line2D at 0x7f73031fb550>]"
      ]
     },
     "execution_count": 18,
     "metadata": {},
     "output_type": "execute_result"
    },
    {
     "data": {
      "image/png": "[encoded data removed]",
      "text/plain": [
       "<Figure size 432x288 with 1 Axes>"
      ]
     },
     "metadata": {},
     "output_type": "display_data"
    }
   ],
   "source": [
    "#this is for J versus number of iterations\n",
    "plt.plot(J[1: , 0] , J[1: , 1])"
   ]
  },
  {
   "cell_type": "code",
   "execution_count": 19,
   "metadata": {},
   "outputs": [
    {
     "data": {
      "text/plain": [
       "[<matplotlib.lines.Line2D at 0x7f73032050f0>]"
      ]
     },
     "execution_count": 19,
     "metadata": {},
     "output_type": "execute_result"
    },
    {
     "data": {
      "image/png": "[encoded data removed]",
      "text/plain": [
       "<Figure size 432x288 with 1 Axes>"
      ]
     },
     "metadata": {},
     "output_type": "display_data"
    }
   ],
   "source": [
    "x_axis = np.linspace (-2 , 2 , 1000).reshape(1000 , 1)\n",
    "x_exp = np.hstack ((np.ones((1000 , 1)) , x_axis))\n",
    "y_axis = x_exp.dot(theta)\n",
    "plt.plot(x_axis , y_axis)\n",
    "plt.plot(X[0:m_train , 1] , y[0:m_train , 0] , 'g+')"
   ]
  },
  {
   "cell_type": "code",
   "execution_count": null,
   "metadata": {},
   "outputs": [],
   "source": []
  },
  {
   "cell_type": "code",
   "execution_count": null,
   "metadata": {},
   "outputs": [],
   "source": []
  },
  {
   "cell_type": "code",
   "execution_count": null,
   "metadata": {},
   "outputs": [],
   "source": []
  }
 ],
 "metadata": {
  "kernelspec": {
   "display_name": "Python 3",
   "language": "python",
   "name": "python3"
  },
  "language_info": {
   "codemirror_mode": {
    "name": "ipython",
    "version": 3
   },
   "file_extension": ".py",
   "mimetype": "text/x-python",
   "name": "python",
   "nbconvert_exporter": "python",
   "pygments_lexer": "ipython3",
   "version": "3.6.5"
  }
 },
 "nbformat": 4,
 "nbformat_minor": 2
}
