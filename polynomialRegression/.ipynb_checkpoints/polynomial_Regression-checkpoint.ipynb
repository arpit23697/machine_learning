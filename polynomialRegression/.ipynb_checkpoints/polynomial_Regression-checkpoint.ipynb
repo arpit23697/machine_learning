{
 "cells": [
  {
   "cell_type": "code",
   "execution_count": 1,
   "metadata": {},
   "outputs": [],
   "source": [
    "import pandas as pd\n",
    "import matplotlib.pyplot as plt\n",
    "import numpy as np"
   ]
  },
  {
   "cell_type": "code",
   "execution_count": 206,
   "metadata": {},
   "outputs": [],
   "source": [
    "df_train = pd.read_csv (\"train2.csv\")"
   ]
  },
  {
   "cell_type": "code",
   "execution_count": 207,
   "metadata": {},
   "outputs": [],
   "source": [
    "df_train = df_train.values"
   ]
  },
  {
   "cell_type": "code",
   "execution_count": 208,
   "metadata": {},
   "outputs": [],
   "source": [
    "m = df_train.shape[0]"
   ]
  },
  {
   "cell_type": "code",
   "execution_count": 209,
   "metadata": {},
   "outputs": [
    {
     "data": {
      "text/plain": [
       "[<matplotlib.lines.Line2D at 0x7fc7ee3f1cf8>]"
      ]
     },
     "execution_count": 209,
     "metadata": {},
     "output_type": "execute_result"
    },
    {
     "data": {
      "image/png": "[encoded data removed]",
      "text/plain": [
       "<Figure size 432x288 with 1 Axes>"
      ]
     },
     "metadata": {},
     "output_type": "display_data"
    }
   ],
   "source": [
    "plt.xlabel('x')\n",
    "plt.ylabel('y')\n",
    "plt.title('data_points')\n",
    "plt.plot(df_train[: , 0] , df_train[: , 1] , 'g+')"
   ]
  },
  {
   "cell_type": "code",
   "execution_count": 210,
   "metadata": {},
   "outputs": [],
   "source": [
    "#this block is going to create the data set\n",
    "mu = df_train.mean(axis = 0)\n",
    "sd = df_train.std(axis = 0)"
   ]
  },
  {
   "cell_type": "code",
   "execution_count": 211,
   "metadata": {},
   "outputs": [],
   "source": [
    "#this is creating the data set for the polynomial regression\n",
    "X = df_train[: , 0].reshape(m , 1)\n",
    "X_sq = X*X\n",
    "mu_sq = X_sq.mean()\n",
    "sd_sq = X_sq.std()\n",
    "\n",
    "#X = (X - mu[0])/sd[0]\n",
    "X_sq = (X_sq - mu_sq)/sd_sq\n",
    "\n",
    "X_train = np.hstack ((np.ones((m , 1)) , X ))"
   ]
  },
  {
   "cell_type": "code",
   "execution_count": 212,
   "metadata": {},
   "outputs": [
    {
     "data": {
      "text/plain": [
       "(13, 1)"
      ]
     },
     "execution_count": 212,
     "metadata": {},
     "output_type": "execute_result"
    }
   ],
   "source": [
    "y_train = (df_train[: , 1] ).reshape(m , 1)\n",
    "y_train.shape"
   ]
  },
  {
   "cell_type": "code",
   "execution_count": 213,
   "metadata": {},
   "outputs": [
    {
     "data": {
      "text/plain": [
       "[<matplotlib.lines.Line2D at 0x7fc7ee3d6dd8>]"
      ]
     },
     "execution_count": 213,
     "metadata": {},
     "output_type": "execute_result"
    },
    {
     "data": {
      "image/png": "[encoded data removed]",
      "text/plain": [
       "<Figure size 432x288 with 1 Axes>"
      ]
     },
     "metadata": {},
     "output_type": "display_data"
    }
   ],
   "source": [
    "plt.xlabel('x')\n",
    "plt.ylabel('y')\n",
    "plt.title('data_points')\n",
    "plt.plot(X , y_train , 'g+')"
   ]
  },
  {
   "cell_type": "code",
   "execution_count": 214,
   "metadata": {},
   "outputs": [],
   "source": [
    "def compute_J (X , y , theta):\n",
    "    error = (X.dot(theta) - y)\n",
    "    error =(error * error).sum()\n",
    "    error = error / (2 * m)\n",
    "    return error\n"
   ]
  },
  {
   "cell_type": "code",
   "execution_count": 215,
   "metadata": {},
   "outputs": [],
   "source": [
    "def gradient (X , y , theta):\n",
    "    temp = (X.dot(theta)).transpose()\n",
    "    temp = (temp.dot(X))/m\n",
    "    temp = temp.transpose()\n",
    "    return temp"
   ]
  },
  {
   "cell_type": "code",
   "execution_count": 216,
   "metadata": {},
   "outputs": [],
   "source": [
    "alpha = 0.0000001"
   ]
  },
  {
   "cell_type": "code",
   "execution_count": 217,
   "metadata": {},
   "outputs": [],
   "source": [
    "epsilon = 0.0000001"
   ]
  },
  {
   "cell_type": "code",
   "execution_count": 218,
   "metadata": {},
   "outputs": [],
   "source": [
    "n = 2"
   ]
  },
  {
   "cell_type": "code",
   "execution_count": 219,
   "metadata": {},
   "outputs": [],
   "source": [
    "theta = np.ones((n , 1))\n",
    "cost1 = compute_J(X_train , y_train , theta)\n",
    "num_of_iteration = 0\n",
    "\n",
    "analysis = np.ones((1 , 2))\n",
    "while (1):\n",
    "    num_of_iteration += 1\n",
    "    grad = gradient (X_train , y_train , theta)\n",
    "    theta = theta - alpha * grad\n",
    "    analysis = np.vstack ((analysis , np.array([num_of_iteration , cost1])))\n",
    "    cost2 = compute_J(X_train , y_train , theta)\n",
    "    if (abs (cost2 - cost1 ) < epsilon):\n",
    "        break\n",
    "    cost1 = cost2"
   ]
  },
  {
   "cell_type": "code",
   "execution_count": 220,
   "metadata": {},
   "outputs": [
    {
     "data": {
      "text/plain": [
       "[<matplotlib.lines.Line2D at 0x7fc7ee2f0e10>]"
      ]
     },
     "execution_count": 220,
     "metadata": {},
     "output_type": "execute_result"
    },
    {
     "data": {
      "image/png": "[encoded data removed]",
      "text/plain": [
       "<Figure size 432x288 with 1 Axes>"
      ]
     },
     "metadata": {},
     "output_type": "display_data"
    }
   ],
   "source": [
    "plt.plot(analysis[1: , 0] , analysis[1: , 1])"
   ]
  },
  {
   "cell_type": "code",
   "execution_count": 221,
   "metadata": {},
   "outputs": [
    {
     "name": "stdout",
     "output_type": "stream",
     "text": [
      "number of iteration :  58642\n",
      "\n",
      " Theta : \n",
      " [[0.96352228]\n",
      " [0.76880774]]\n",
      "\n",
      " cost \n",
      " 0.1503414291180218\n"
     ]
    }
   ],
   "source": [
    "print(\"number of iteration : \" , num_of_iteration)\n",
    "print(\"\\n Theta : \\n\" , theta )\n",
    "print(\"\\n cost \\n\" , compute_J(X_train , y_train , theta) )"
   ]
  },
  {
   "cell_type": "code",
   "execution_count": 223,
   "metadata": {},
   "outputs": [
    {
     "name": "stdout",
     "output_type": "stream",
     "text": [
      "(100, 1)\n",
      "(100, 1)\n"
     ]
    },
    {
     "data": {
      "text/plain": [
       "[<matplotlib.lines.Line2D at 0x7fc7ee285ba8>]"
      ]
     },
     "execution_count": 223,
     "metadata": {},
     "output_type": "execute_result"
    },
    {
     "data": {
      "image/png": "[encoded data removed]",
      "text/plain": [
       "<Figure size 432x288 with 1 Axes>"
      ]
     },
     "metadata": {},
     "output_type": "display_data"
    }
   ],
   "source": [
    "plt.plot(X , y_train , 'g+')\n",
    "x_axis = np.linspace (2 , 10 , 100 ).reshape(100 , 1)\n",
    "print(x_axis.shape)\n",
    "x_axis_sq = x_axis * x_axis\n",
    "print(x_axis.shape)\n",
    "x_graph = np.hstack ((np.ones((x_axis.shape[0] , 1)) , x_axis))\n",
    "y_axis = x_graph.dot(theta)\n",
    "plt.plot(x_axis , y_axis)\n"
   ]
  },
  {
   "cell_type": "code",
   "execution_count": null,
   "metadata": {},
   "outputs": [],
   "source": []
  },
  {
   "cell_type": "code",
   "execution_count": null,
   "metadata": {},
   "outputs": [],
   "source": [
    "\n"
   ]
  },
  {
   "cell_type": "code",
   "execution_count": null,
   "metadata": {},
   "outputs": [],
   "source": []
  }
 ],
 "metadata": {
  "kernelspec": {
   "display_name": "Python 3",
   "language": "python",
   "name": "python3"
  },
  "language_info": {
   "codemirror_mode": {
    "name": "ipython",
    "version": 3
   },
   "file_extension": ".py",
   "mimetype": "text/x-python",
   "name": "python",
   "nbconvert_exporter": "python",
   "pygments_lexer": "ipython3",
   "version": "3.6.5"
  }
 },
 "nbformat": 4,
 "nbformat_minor": 2
}
