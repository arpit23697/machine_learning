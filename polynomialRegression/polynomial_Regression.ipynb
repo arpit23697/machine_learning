{
 "cells": [
  {
   "cell_type": "code",
   "execution_count": 1,
   "metadata": {},
   "outputs": [],
   "source": [
    "import pandas as pd\n",
    "import matplotlib.pyplot as plt\n",
    "import numpy as np"
   ]
  },
  {
   "cell_type": "code",
   "execution_count": 2,
   "metadata": {},
   "outputs": [],
   "source": [
    "df_train = pd.read_csv (\"train4.csv\")\n",
    "df_train = df_train.interpolate()"
   ]
  },
  {
   "cell_type": "code",
   "execution_count": 3,
   "metadata": {},
   "outputs": [],
   "source": [
    "df_train = df_train.values"
   ]
  },
  {
   "cell_type": "code",
   "execution_count": 4,
   "metadata": {},
   "outputs": [],
   "source": [
    "a = df_train > 200\n",
    "df_train[a] = 100"
   ]
  },
  {
   "cell_type": "code",
   "execution_count": 5,
   "metadata": {},
   "outputs": [],
   "source": [
    "m = df_train.shape[0]"
   ]
  },
  {
   "cell_type": "code",
   "execution_count": 6,
   "metadata": {},
   "outputs": [
    {
     "data": {
      "text/plain": [
       "[<matplotlib.lines.Line2D at 0x7f345851e748>]"
      ]
     },
     "execution_count": 6,
     "metadata": {},
     "output_type": "execute_result"
    },
    {
     "data": {
      "image/png": "[encoded data removed]",
      "text/plain": [
       "<Figure size 432x288 with 1 Axes>"
      ]
     },
     "metadata": {},
     "output_type": "display_data"
    }
   ],
   "source": [
    "plt.xlabel('x')\n",
    "plt.ylabel('y')\n",
    "plt.title('data_points')\n",
    "plt.plot(df_train[: , 0] , df_train[: , 1] , 'g+')"
   ]
  },
  {
   "cell_type": "code",
   "execution_count": 7,
   "metadata": {},
   "outputs": [
    {
     "name": "stdout",
     "output_type": "stream",
     "text": [
      "2.4565217391304346 0.9102441559496296\n"
     ]
    }
   ],
   "source": [
    "#this block is going to create the data set\n",
    "mu = df_train.mean(axis = 0)\n",
    "sd = df_train.std(axis = 0)\n",
    "print(mu[0] , sd[0])"
   ]
  },
  {
   "cell_type": "code",
   "execution_count": 8,
   "metadata": {},
   "outputs": [],
   "source": [
    "#this is creating the data set for the polynomial regression\n",
    "X = df_train[: , 0].reshape(m , 1)\n",
    "X_sq = X*X\n",
    "mu_sq = X_sq.mean()\n",
    "sd_sq = X_sq.std()\n",
    "\n",
    "#X = (X - mu[0])/sd[0]\n",
    "#X_sq = (X_sq - mu_sq)/sd_sq\n",
    "\n",
    "X_train = np.hstack ((np.ones((m , 1)) , X , X_sq ))"
   ]
  },
  {
   "cell_type": "code",
   "execution_count": 9,
   "metadata": {},
   "outputs": [
    {
     "data": {
      "text/plain": [
       "(23, 1)"
      ]
     },
     "execution_count": 9,
     "metadata": {},
     "output_type": "execute_result"
    }
   ],
   "source": [
    "y_train = (df_train[: , 1]).reshape(m , 1)\n",
    "y_train.shape"
   ]
  },
  {
   "cell_type": "code",
   "execution_count": 10,
   "metadata": {},
   "outputs": [],
   "source": [
    "def compute_J (X , y , theta):\n",
    "    error = (X.dot(theta) - y)\n",
    "    error =(error * error).sum()\n",
    "    error = error / (2 * m)\n",
    "    return error\n"
   ]
  },
  {
   "cell_type": "code",
   "execution_count": 11,
   "metadata": {},
   "outputs": [],
   "source": [
    "def gradient (X , y , theta):\n",
    "    temp = (X.dot(theta) - y).transpose()\n",
    "    temp = (temp.dot(X))/m\n",
    "    temp = temp.transpose()\n",
    "    return temp"
   ]
  },
  {
   "cell_type": "code",
   "execution_count": 12,
   "metadata": {},
   "outputs": [],
   "source": [
    "alpha = 0.001"
   ]
  },
  {
   "cell_type": "code",
   "execution_count": 13,
   "metadata": {},
   "outputs": [],
   "source": [
    "n = 3"
   ]
  },
  {
   "cell_type": "code",
   "execution_count": 14,
   "metadata": {},
   "outputs": [],
   "source": [
    "theta = np.ones((n , 1))\n",
    "num_of_iteration = 0\n",
    "cost2 = compute_J (X_train , y_train , theta)\n",
    "analysis = np.ones((1 , 2))\n",
    "\n",
    "for _ in range(100000):\n",
    "    num_of_iteration += 1\n",
    "    grad = gradient (X_train , y_train , theta)\n",
    "    theta = theta - alpha * grad\n",
    "    \n",
    "    cost1 = compute_J (X_train , y_train , theta)\n",
    "    analysis = np.vstack ((analysis , np.array([num_of_iteration , cost1])))\n",
    "    if (cost1 > cost2):\n",
    "        break\n",
    "    cost2 = cost1"
   ]
  },
  {
   "cell_type": "code",
   "execution_count": 15,
   "metadata": {},
   "outputs": [
    {
     "data": {
      "text/plain": [
       "[<matplotlib.lines.Line2D at 0x7f3454951828>]"
      ]
     },
     "execution_count": 15,
     "metadata": {},
     "output_type": "execute_result"
    },
    {
     "data": {
      "image/png": "[encoded data removed]",
      "text/plain": [
       "<Figure size 432x288 with 1 Axes>"
      ]
     },
     "metadata": {},
     "output_type": "display_data"
    }
   ],
   "source": [
    "plt.xlabel('number of iterations')\n",
    "plt.ylabel(\"cost function\")\n",
    "plt.title (\"J Vs number of iterations\")\n",
    "plt.plot(analysis[1: , 0] , analysis[1: , 1])"
   ]
  },
  {
   "cell_type": "code",
   "execution_count": 16,
   "metadata": {},
   "outputs": [
    {
     "name": "stdout",
     "output_type": "stream",
     "text": [
      "########## gradient descent ##############\n",
      "number of iteration :  100000\n",
      "\n",
      " Theta : \n",
      " [[ 0.53742957]\n",
      " [-0.69380843]\n",
      " [ 1.16668408]]\n",
      "\n",
      " cost \n",
      " 0.03783586508100793\n"
     ]
    }
   ],
   "source": [
    "print(\"########## gradient descent ##############\")\n",
    "print(\"number of iteration : \" , num_of_iteration)\n",
    "print(\"\\n Theta : \\n\" , theta )\n",
    "print(\"\\n cost \\n\" , compute_J(X_train , y_train , theta) )"
   ]
  },
  {
   "cell_type": "code",
   "execution_count": 17,
   "metadata": {},
   "outputs": [],
   "source": [
    "#this is the solution using the normal equations\n",
    "a = X_train.transpose()\n",
    "b = a.dot(X_train)\n",
    "b = np.linalg.inv(b)\n",
    "b = b.dot(a)\n",
    "theta_normal = b.dot(y_train)"
   ]
  },
  {
   "cell_type": "code",
   "execution_count": 18,
   "metadata": {},
   "outputs": [
    {
     "name": "stdout",
     "output_type": "stream",
     "text": [
      "########### normal equation ##########\n",
      "\n",
      " Theta : \n",
      " [[ 0.87249793]\n",
      " [-0.9921531 ]\n",
      " [ 1.22514538]]\n",
      "\n",
      " cost \n",
      " 0.036797114125314216\n"
     ]
    }
   ],
   "source": [
    "print(\"########### normal equation ##########\")\n",
    "print(\"\\n Theta : \\n\" , theta_normal )\n",
    "print(\"\\n cost \\n\" , compute_J(X_train , y_train , theta_normal) )"
   ]
  },
  {
   "cell_type": "code",
   "execution_count": 19,
   "metadata": {},
   "outputs": [
    {
     "data": {
      "text/plain": [
       "<matplotlib.legend.Legend at 0x7f345406e588>"
      ]
     },
     "execution_count": 19,
     "metadata": {},
     "output_type": "execute_result"
    },
    {
     "data": {
      "image/png": "[encoded data removed]",
      "text/plain": [
       "<Figure size 432x288 with 1 Axes>"
      ]
     },
     "metadata": {},
     "output_type": "display_data"
    }
   ],
   "source": [
    "plt.title(\"analysis\")\n",
    "\n",
    "plt.plot(df_train[: , 0] , df_train[: , 1] , 'g+' , label = \"data points\")\n",
    "x_axis = np.linspace (1, 4.5, 100 ).reshape(100 , 1)\n",
    "x_axis_sq = x_axis * x_axis\n",
    "x_graph = np.hstack ((np.ones((x_axis.shape[0] , 1)) , x_axis , x_axis_sq))\n",
    "y_axis = x_graph.dot(theta)\n",
    "\n",
    "y_axis_normal = x_graph.dot(theta_normal)\n",
    "\n",
    "\n",
    "plt.plot(x_axis , y_axis_normal , label = \"normal_equation_method\")\n",
    "plt.plot(x_axis , y_axis , label = \"gradient descent\")\n",
    "plt.legend()"
   ]
  },
  {
   "cell_type": "code",
   "execution_count": null,
   "metadata": {},
   "outputs": [],
   "source": []
  },
  {
   "cell_type": "code",
   "execution_count": null,
   "metadata": {},
   "outputs": [],
   "source": []
  }
 ],
 "metadata": {
  "kernelspec": {
   "display_name": "Python 3",
   "language": "python",
   "name": "python3"
  },
  "language_info": {
   "codemirror_mode": {
    "name": "ipython",
    "version": 3
   },
   "file_extension": ".py",
   "mimetype": "text/x-python",
   "name": "python",
   "nbconvert_exporter": "python",
   "pygments_lexer": "ipython3",
   "version": "3.6.5"
  }
 },
 "nbformat": 4,
 "nbformat_minor": 2
}
